{
 "cells": [
  {
   "cell_type": "markdown",
   "id": "ca488121-b6d8-43cc-a3d1-463fd7be3195",
   "metadata": {},
   "source": [
    "# 1. Install requirements"
   ]
  },
  {
   "cell_type": "code",
   "execution_count": 1,
   "id": "87c3093a-9dbe-4c28-8aad-f43a9b1b51f1",
   "metadata": {
    "scrolled": true
   },
   "outputs": [
    {
     "name": "stdout",
     "output_type": "stream",
     "text": [
      "Requirement already satisfied: numpy in ./venv/lib/python3.9/site-packages (from -r requirements.txt (line 1)) (1.25.2)\n",
      "Requirement already satisfied: pandas in ./venv/lib/python3.9/site-packages (from -r requirements.txt (line 2)) (2.1.0)\n",
      "Requirement already satisfied: torch in ./venv/lib/python3.9/site-packages (from -r requirements.txt (line 3)) (2.0.1)\n",
      "Requirement already satisfied: scikit-learn in ./venv/lib/python3.9/site-packages (from -r requirements.txt (line 4)) (1.3.0)\n",
      "Requirement already satisfied: tqdm in ./venv/lib/python3.9/site-packages (from -r requirements.txt (line 5)) (4.66.1)\n",
      "Requirement already satisfied: transformers in ./venv/lib/python3.9/site-packages (from -r requirements.txt (line 6)) (4.33.1)\n",
      "Requirement already satisfied: matplotlib in ./venv/lib/python3.9/site-packages (from -r requirements.txt (line 7)) (3.7.3)\n",
      "Requirement already satisfied: seaborn in ./venv/lib/python3.9/site-packages (from -r requirements.txt (line 8)) (0.12.2)\n",
      "Requirement already satisfied: python-dateutil>=2.8.2 in ./venv/lib/python3.9/site-packages (from pandas->-r requirements.txt (line 2)) (2.8.2)\n",
      "Requirement already satisfied: pytz>=2020.1 in ./venv/lib/python3.9/site-packages (from pandas->-r requirements.txt (line 2)) (2023.3.post1)\n",
      "Requirement already satisfied: tzdata>=2022.1 in ./venv/lib/python3.9/site-packages (from pandas->-r requirements.txt (line 2)) (2023.3)\n",
      "Requirement already satisfied: filelock in ./venv/lib/python3.9/site-packages (from torch->-r requirements.txt (line 3)) (3.12.3)\n",
      "Requirement already satisfied: typing-extensions in ./venv/lib/python3.9/site-packages (from torch->-r requirements.txt (line 3)) (4.7.1)\n",
      "Requirement already satisfied: sympy in ./venv/lib/python3.9/site-packages (from torch->-r requirements.txt (line 3)) (1.12)\n",
      "Requirement already satisfied: networkx in ./venv/lib/python3.9/site-packages (from torch->-r requirements.txt (line 3)) (3.1)\n",
      "Requirement already satisfied: jinja2 in ./venv/lib/python3.9/site-packages (from torch->-r requirements.txt (line 3)) (3.1.2)\n",
      "Requirement already satisfied: scipy>=1.5.0 in ./venv/lib/python3.9/site-packages (from scikit-learn->-r requirements.txt (line 4)) (1.11.2)\n",
      "Requirement already satisfied: joblib>=1.1.1 in ./venv/lib/python3.9/site-packages (from scikit-learn->-r requirements.txt (line 4)) (1.3.2)\n",
      "Requirement already satisfied: threadpoolctl>=2.0.0 in ./venv/lib/python3.9/site-packages (from scikit-learn->-r requirements.txt (line 4)) (3.2.0)\n",
      "Requirement already satisfied: huggingface-hub<1.0,>=0.15.1 in ./venv/lib/python3.9/site-packages (from transformers->-r requirements.txt (line 6)) (0.17.1)\n",
      "Requirement already satisfied: packaging>=20.0 in ./venv/lib/python3.9/site-packages (from transformers->-r requirements.txt (line 6)) (23.1)\n",
      "Requirement already satisfied: pyyaml>=5.1 in ./venv/lib/python3.9/site-packages (from transformers->-r requirements.txt (line 6)) (6.0.1)\n",
      "Requirement already satisfied: regex!=2019.12.17 in ./venv/lib/python3.9/site-packages (from transformers->-r requirements.txt (line 6)) (2023.8.8)\n",
      "Requirement already satisfied: requests in ./venv/lib/python3.9/site-packages (from transformers->-r requirements.txt (line 6)) (2.31.0)\n",
      "Requirement already satisfied: tokenizers!=0.11.3,<0.14,>=0.11.1 in ./venv/lib/python3.9/site-packages (from transformers->-r requirements.txt (line 6)) (0.13.3)\n",
      "Requirement already satisfied: safetensors>=0.3.1 in ./venv/lib/python3.9/site-packages (from transformers->-r requirements.txt (line 6)) (0.3.3)\n",
      "Requirement already satisfied: contourpy>=1.0.1 in ./venv/lib/python3.9/site-packages (from matplotlib->-r requirements.txt (line 7)) (1.1.0)\n",
      "Requirement already satisfied: cycler>=0.10 in ./venv/lib/python3.9/site-packages (from matplotlib->-r requirements.txt (line 7)) (0.11.0)\n",
      "Requirement already satisfied: fonttools>=4.22.0 in ./venv/lib/python3.9/site-packages (from matplotlib->-r requirements.txt (line 7)) (4.42.1)\n",
      "Requirement already satisfied: kiwisolver>=1.0.1 in ./venv/lib/python3.9/site-packages (from matplotlib->-r requirements.txt (line 7)) (1.4.5)\n",
      "Requirement already satisfied: pillow>=6.2.0 in ./venv/lib/python3.9/site-packages (from matplotlib->-r requirements.txt (line 7)) (10.0.0)\n",
      "Requirement already satisfied: pyparsing>=2.3.1 in ./venv/lib/python3.9/site-packages (from matplotlib->-r requirements.txt (line 7)) (3.1.1)\n",
      "Requirement already satisfied: importlib-resources>=3.2.0 in ./venv/lib/python3.9/site-packages (from matplotlib->-r requirements.txt (line 7)) (6.0.1)\n",
      "Requirement already satisfied: fsspec in ./venv/lib/python3.9/site-packages (from huggingface-hub<1.0,>=0.15.1->transformers->-r requirements.txt (line 6)) (2023.9.0)\n",
      "Requirement already satisfied: zipp>=3.1.0 in ./venv/lib/python3.9/site-packages (from importlib-resources>=3.2.0->matplotlib->-r requirements.txt (line 7)) (3.16.2)\n",
      "Requirement already satisfied: six>=1.5 in ./venv/lib/python3.9/site-packages (from python-dateutil>=2.8.2->pandas->-r requirements.txt (line 2)) (1.16.0)\n",
      "Requirement already satisfied: MarkupSafe>=2.0 in ./venv/lib/python3.9/site-packages (from jinja2->torch->-r requirements.txt (line 3)) (2.1.3)\n",
      "Requirement already satisfied: charset-normalizer<4,>=2 in ./venv/lib/python3.9/site-packages (from requests->transformers->-r requirements.txt (line 6)) (3.2.0)\n",
      "Requirement already satisfied: idna<4,>=2.5 in ./venv/lib/python3.9/site-packages (from requests->transformers->-r requirements.txt (line 6)) (3.4)\n",
      "Requirement already satisfied: urllib3<3,>=1.21.1 in ./venv/lib/python3.9/site-packages (from requests->transformers->-r requirements.txt (line 6)) (2.0.4)\n",
      "Requirement already satisfied: certifi>=2017.4.17 in ./venv/lib/python3.9/site-packages (from requests->transformers->-r requirements.txt (line 6)) (2023.7.22)\n",
      "Requirement already satisfied: mpmath>=0.19 in ./venv/lib/python3.9/site-packages (from sympy->torch->-r requirements.txt (line 3)) (1.3.0)\n"
     ]
    }
   ],
   "source": [
    "!pip install -r requirements.txt"
   ]
  },
  {
   "cell_type": "markdown",
   "id": "d6ca7815-bd93-4d89-89d3-696912603295",
   "metadata": {},
   "source": [
    "# 2. Import libraries"
   ]
  },
  {
   "cell_type": "code",
   "execution_count": 2,
   "id": "efbfebb0-784a-4d89-8704-33b87a9837d8",
   "metadata": {},
   "outputs": [],
   "source": [
    "from typing import Dict, List, Tuple, Union\n",
    "import random\n",
    "import warnings\n",
    "warnings.filterwarnings(\"ignore\")\n",
    "\n",
    "import numpy as np\n",
    "import pandas as pd\n",
    "import torch\n",
    "from torch import nn\n",
    "import torch.nn.functional as F\n",
    "from torch.utils.data import TensorDataset, DataLoader, Subset\n",
    "from transformers import get_cosine_schedule_with_warmup\n",
    "from sklearn.model_selection import train_test_split\n",
    "from sklearn.metrics import f1_score, precision_score, recall_score, balanced_accuracy_score\n",
    "\n",
    "import matplotlib.pyplot as plt\n",
    "import seaborn as sns\n",
    "\n",
    "from tqdm.auto import tqdm"
   ]
  },
  {
   "cell_type": "markdown",
   "id": "466f2726-753b-4dd1-8513-25e67094b453",
   "metadata": {},
   "source": [
    "Зафиксируем сид для воспроизводимости решения"
   ]
  },
  {
   "cell_type": "code",
   "execution_count": 3,
   "id": "e708530a-4e3c-436b-9924-89a0c2f89e03",
   "metadata": {},
   "outputs": [],
   "source": [
    "SEED = 42\n",
    "\n",
    "\n",
    "def seed_all(seed_value: int = 42):\n",
    "    random.seed(seed_value)\n",
    "    np.random.seed(seed_value)\n",
    "    torch.manual_seed(seed_value)\n",
    "    if torch.cuda.is_available():\n",
    "        torch.cuda.manual_seed(seed_value)\n",
    "        torch.cuda.manual_seed_all(seed_value)\n",
    "        torch.backends.cudnn.deterministic = False\n",
    "\n",
    "\n",
    "seed_all(SEED)"
   ]
  },
  {
   "cell_type": "markdown",
   "id": "a624efde-c60d-49dd-a47a-0c82a4e74880",
   "metadata": {},
   "source": [
    "# 3. Data"
   ]
  },
  {
   "cell_type": "code",
   "execution_count": 4,
   "id": "47c6c264-1b1d-4934-b5f2-1dd86aca0e6c",
   "metadata": {},
   "outputs": [
    {
     "data": {
      "text/html": [
       "<div>\n",
       "<style scoped>\n",
       "    .dataframe tbody tr th:only-of-type {\n",
       "        vertical-align: middle;\n",
       "    }\n",
       "\n",
       "    .dataframe tbody tr th {\n",
       "        vertical-align: top;\n",
       "    }\n",
       "\n",
       "    .dataframe thead th {\n",
       "        text-align: right;\n",
       "    }\n",
       "</style>\n",
       "<table border=\"1\" class=\"dataframe\">\n",
       "  <thead>\n",
       "    <tr style=\"text-align: right;\">\n",
       "      <th></th>\n",
       "      <th>password</th>\n",
       "      <th>strength</th>\n",
       "    </tr>\n",
       "  </thead>\n",
       "  <tbody>\n",
       "    <tr>\n",
       "      <th>0</th>\n",
       "      <td>yrtzuab476</td>\n",
       "      <td>1</td>\n",
       "    </tr>\n",
       "    <tr>\n",
       "      <th>1</th>\n",
       "      <td>yEdnN9jc1NgzkkBP</td>\n",
       "      <td>2</td>\n",
       "    </tr>\n",
       "    <tr>\n",
       "      <th>2</th>\n",
       "      <td>sarita99</td>\n",
       "      <td>1</td>\n",
       "    </tr>\n",
       "    <tr>\n",
       "      <th>3</th>\n",
       "      <td>Suramerica2015</td>\n",
       "      <td>2</td>\n",
       "    </tr>\n",
       "    <tr>\n",
       "      <th>4</th>\n",
       "      <td>PPRbMvDIxMQ19TMo</td>\n",
       "      <td>2</td>\n",
       "    </tr>\n",
       "    <tr>\n",
       "      <th>...</th>\n",
       "      <td>...</td>\n",
       "      <td>...</td>\n",
       "    </tr>\n",
       "    <tr>\n",
       "      <th>99995</th>\n",
       "      <td>aulona044</td>\n",
       "      <td>1</td>\n",
       "    </tr>\n",
       "    <tr>\n",
       "      <th>99996</th>\n",
       "      <td>5201314ding</td>\n",
       "      <td>1</td>\n",
       "    </tr>\n",
       "    <tr>\n",
       "      <th>99997</th>\n",
       "      <td>isaac19725</td>\n",
       "      <td>1</td>\n",
       "    </tr>\n",
       "    <tr>\n",
       "      <th>99998</th>\n",
       "      <td>toji25</td>\n",
       "      <td>0</td>\n",
       "    </tr>\n",
       "    <tr>\n",
       "      <th>99999</th>\n",
       "      <td>midnight000</td>\n",
       "      <td>1</td>\n",
       "    </tr>\n",
       "  </tbody>\n",
       "</table>\n",
       "<p>100000 rows × 2 columns</p>\n",
       "</div>"
      ],
      "text/plain": [
       "               password  strength\n",
       "0            yrtzuab476         1\n",
       "1      yEdnN9jc1NgzkkBP         2\n",
       "2              sarita99         1\n",
       "3        Suramerica2015         2\n",
       "4      PPRbMvDIxMQ19TMo         2\n",
       "...                 ...       ...\n",
       "99995         aulona044         1\n",
       "99996       5201314ding         1\n",
       "99997        isaac19725         1\n",
       "99998            toji25         0\n",
       "99999       midnight000         1\n",
       "\n",
       "[100000 rows x 2 columns]"
      ]
     },
     "execution_count": 4,
     "metadata": {},
     "output_type": "execute_result"
    }
   ],
   "source": [
    "data = pd.read_csv(\"data.txt\")\n",
    "data"
   ]
  },
  {
   "cell_type": "markdown",
   "id": "e62b5c45-bfe5-460a-a344-fcca78330f6a",
   "metadata": {},
   "source": [
    "# 4. EDA"
   ]
  },
  {
   "cell_type": "code",
   "execution_count": 5,
   "id": "c57ae4f2-8f80-44f9-b03d-13d64545275b",
   "metadata": {
    "scrolled": true
   },
   "outputs": [],
   "source": [
    "from collections import Counter\n",
    "\n",
    "def get_char_statistics(passwords: List[str]) -> Dict[str, int]:\n",
    "    all_characters = list(\"\".join(passwords.to_list()))\n",
    "    statistics = dict(sorted(Counter(all_characters).items(), key=lambda x: x[1], reverse=True))\n",
    "    return statistics\n",
    "\n",
    "\n",
    "char_statistics = get_char_statistics(data.password)\n"
   ]
  },
  {
   "cell_type": "code",
   "execution_count": 6,
   "id": "e52da500-3d57-475b-a33b-b70589bfc5ed",
   "metadata": {},
   "outputs": [
    {
     "data": {
      "image/png": "[encoded data removed]",
      "text/plain": [
       "<Figure size 2000x1500 with 1 Axes>"
      ]
     },
     "metadata": {},
     "output_type": "display_data"
    }
   ],
   "source": [
    "fig, ax = plt.subplots(figsize=(20, 15))\n",
    "\n",
    "chars = list(char_statistics.keys())\n",
    "stats = list(char_statistics.values())\n",
    "\n",
    "ax.bar(chars, stats)\n",
    "plt.title('Character frequencies')\n",
    "\n",
    "plt.show()"
   ]
  },
  {
   "cell_type": "code",
   "execution_count": 7,
   "id": "6633c720-d1b2-47af-b65d-b4a7383eefea",
   "metadata": {},
   "outputs": [
    {
     "data": {
      "text/plain": [
       "<Axes: title={'center': 'Target distribution'}, xlabel='strength'>"
      ]
     },
     "execution_count": 7,
     "metadata": {},
     "output_type": "execute_result"
    },
    {
     "data": {
      "image/png": "[encoded data removed]",
      "text/plain": [
       "<Figure size 640x480 with 1 Axes>"
      ]
     },
     "metadata": {},
     "output_type": "display_data"
    }
   ],
   "source": [
    "plt.title('Target distribution')\n",
    "data.strength.value_counts().plot(kind='bar')"
   ]
  },
  {
   "cell_type": "markdown",
   "id": "1866f06e-88a9-440c-9266-22f048fbdc1f",
   "metadata": {},
   "source": [
    "Виден явный дизбаланс классов"
   ]
  },
  {
   "cell_type": "code",
   "execution_count": 8,
   "id": "32513616-fca5-44cd-801d-6d169949cc37",
   "metadata": {},
   "outputs": [
    {
     "data": {
      "text/plain": [
       "Text(0.5, 1.0, 'Password length distribution')"
      ]
     },
     "execution_count": 8,
     "metadata": {},
     "output_type": "execute_result"
    },
    {
     "data": {
      "image/png": "[encoded data removed]",
      "text/plain": [
       "<Figure size 500x500 with 1 Axes>"
      ]
     },
     "metadata": {},
     "output_type": "display_data"
    }
   ],
   "source": [
    "sns.displot(data.password.apply(lambda x: len(x)), bins=30)\n",
    "plt.title('Password length distribution')"
   ]
  },
  {
   "cell_type": "markdown",
   "id": "4fa010d1-916f-4146-81e8-c7f3ab718c83",
   "metadata": {},
   "source": [
    "# 5. Tokenization"
   ]
  },
  {
   "cell_type": "code",
   "execution_count": 9,
   "id": "f8cdf74b-482a-4806-824e-cbaf9a1e2ce8",
   "metadata": {},
   "outputs": [
    {
     "data": {
      "text/plain": [
       "{'a': 0,\n",
       " '1': 1,\n",
       " 'e': 2,\n",
       " '2': 3,\n",
       " 'i': 4,\n",
       " '0': 5,\n",
       " 'o': 6,\n",
       " '3': 7,\n",
       " 'n': 8,\n",
       " 'r': 9,\n",
       " '9': 10,\n",
       " 's': 11,\n",
       " '4': 12,\n",
       " '5': 13,\n",
       " 'l': 14,\n",
       " 'u': 15,\n",
       " '8': 16,\n",
       " 'm': 17,\n",
       " 't': 18,\n",
       " '6': 19,\n",
       " '7': 20,\n",
       " 'k': 21,\n",
       " 'c': 22,\n",
       " 'y': 23,\n",
       " 'd': 24,\n",
       " 'g': 25,\n",
       " 'h': 26,\n",
       " 'p': 27,\n",
       " 'b': 28,\n",
       " 'w': 29,\n",
       " 'j': 30,\n",
       " 'z': 31,\n",
       " 'v': 32,\n",
       " 'f': 33,\n",
       " 'x': 34,\n",
       " 'q': 35,\n",
       " 'A': 36,\n",
       " 'M': 37,\n",
       " 'N': 38,\n",
       " 'Q': 39,\n",
       " 'D': 40,\n",
       " 'T': 41,\n",
       " 'O': 42,\n",
       " 'E': 43,\n",
       " 'I': 44,\n",
       " 'U': 45,\n",
       " 'Y': 46,\n",
       " 'S': 47,\n",
       " 'R': 48,\n",
       " 'L': 49,\n",
       " 'K': 50,\n",
       " 'C': 51,\n",
       " 'G': 52,\n",
       " 'P': 53,\n",
       " 'H': 54,\n",
       " 'B': 55,\n",
       " 'J': 56,\n",
       " 'F': 57,\n",
       " 'W': 58,\n",
       " 'X': 59,\n",
       " 'Z': 60,\n",
       " 'V': 61,\n",
       " '.': 62,\n",
       " '@': 63,\n",
       " '-': 64,\n",
       " '_': 65,\n",
       " '!': 66,\n",
       " '*': 67,\n",
       " '$': 68,\n",
       " '#': 69,\n",
       " ' ': 70,\n",
       " '/': 71,\n",
       " '+': 72,\n",
       " '&': 73,\n",
       " '?': 74,\n",
       " '%': 75,\n",
       " '(': 76,\n",
       " '^': 77,\n",
       " ')': 78,\n",
       " ';': 79,\n",
       " '=': 80,\n",
       " 'В': 81,\n",
       " 'Г': 82,\n",
       " '±': 83,\n",
       " ']': 84,\n",
       " '[': 85,\n",
       " '~': 86,\n",
       " '>': 87,\n",
       " 'љ': 88,\n",
       " '„': 89,\n",
       " '<': 90,\n",
       " '{': 91,\n",
       " '\\\\': 92,\n",
       " '|': 93,\n",
       " 'ѕ': 94,\n",
       " 'і': 95,\n",
       " '}': 96,\n",
       " 'є': 97,\n",
       " '\"': 98,\n",
       " 'Ў': 99,\n",
       " 'ґ': 100,\n",
       " '‘': 101,\n",
       " '«': 102,\n",
       " 'Ж': 103,\n",
       " '’': 104,\n",
       " '\\x1c': 105,\n",
       " 'ћ': 106,\n",
       " 'ќ': 107,\n",
       " '»': 108,\n",
       " 'Ѓ': 109,\n",
       " 'в': 110,\n",
       " 'Ђ': 111,\n",
       " '·': 112,\n",
       " 'Ќ': 113,\n",
       " '”': 114,\n",
       " 'Џ': 115}"
      ]
     },
     "execution_count": 9,
     "metadata": {},
     "output_type": "execute_result"
    }
   ],
   "source": [
    "char_to_id = {char: id for id, char in enumerate(list(char_statistics.keys()))}\n",
    "char_to_id"
   ]
  },
  {
   "cell_type": "code",
   "execution_count": 10,
   "id": "1360d06d-797b-42bf-aaaa-a2abc35c7596",
   "metadata": {},
   "outputs": [
    {
     "data": {
      "text/plain": [
       "117"
      ]
     },
     "execution_count": 10,
     "metadata": {},
     "output_type": "execute_result"
    }
   ],
   "source": [
    "VOCAB_SIZE = len(list(char_to_id.keys())) + 1 # 116 chars and [PAD]\n",
    "VOCAB_SIZE"
   ]
  },
  {
   "cell_type": "code",
   "execution_count": 11,
   "id": "0fe2a984-8017-499e-96a4-311494881120",
   "metadata": {},
   "outputs": [
    {
     "data": {
      "text/plain": [
       "45"
      ]
     },
     "execution_count": 11,
     "metadata": {},
     "output_type": "execute_result"
    }
   ],
   "source": [
    "MAX_LEN = data.password.apply(lambda x: len(x)).max()\n",
    "MAX_LEN"
   ]
  },
  {
   "cell_type": "code",
   "execution_count": 12,
   "id": "f8f8f098-1f02-49ac-b18b-9aa956918e61",
   "metadata": {},
   "outputs": [],
   "source": [
    "PAD = VOCAB_SIZE - 1"
   ]
  },
  {
   "cell_type": "markdown",
   "id": "946a24b1-5668-47a3-8e36-a9b60419b15f",
   "metadata": {},
   "source": [
    "# 6. Преобразования данных\n",
    "\n",
    "1) Считаем следующие статистики по паролю: кол-во букв, кол-во цифр, кол-во спец символов а также кол-во заглавных букв\n",
    "2) Каждый символ заменяет на соответствующий ему id'шник (всего у нас id'шников ```VOCAB_SIZE = 117```)\n",
    "3) Делаем паддинг до ранее вычисленного ```MAX_LEN = 45```"
   ]
  },
  {
   "cell_type": "code",
   "execution_count": 13,
   "id": "e947fae7-91d6-43e5-bcdd-c9eee7159774",
   "metadata": {},
   "outputs": [],
   "source": [
    "def get_meta_features(chars: List[str]) -> List[int]:\n",
    "    letters = 0.0\n",
    "    numbers = 0.0\n",
    "    capitals = 0.0\n",
    "    special_symbols = 0.0\n",
    "    \n",
    "    for char in chars:\n",
    "        if char.isalpha():\n",
    "            letters += 1\n",
    "            if char.lower() != char:\n",
    "                capitals += 1\n",
    "                \n",
    "        elif char.isnumeric():\n",
    "            numbers += 1\n",
    "\n",
    "        else:\n",
    "            special_symbols += 1\n",
    "\n",
    "    return [letters, numbers, capitals, special_symbols]\n",
    "\n",
    "\n",
    "def preprocess_password(word: str) -> Tuple[torch.Tensor]:\n",
    "    chars = list(word)\n",
    "    meta_features = get_meta_features(word)\n",
    "    ids = [char_to_id[char] for char in chars]\n",
    "    \n",
    "    attn_mask = [1] * len(ids) + [0] * (MAX_LEN - len(ids))\n",
    "    pads = [PAD] * (MAX_LEN - len(ids))\n",
    "    ids = ids + pads\n",
    "\n",
    "    return torch.LongTensor(ids).unsqueeze(0), torch.LongTensor(attn_mask).unsqueeze(0), torch.FloatTensor(meta_features).unsqueeze(0)\n",
    "    "
   ]
  },
  {
   "cell_type": "code",
   "execution_count": 14,
   "id": "7104c29c-e0e9-4e35-8d91-d0e3530f178c",
   "metadata": {},
   "outputs": [
    {
     "data": {
      "text/plain": [
       "(tensor([[ 23,   9,  18,  31,  15,   0,  28,  12,  20,  19, 116, 116, 116, 116,\n",
       "          116, 116, 116, 116, 116, 116, 116, 116, 116, 116, 116, 116, 116, 116,\n",
       "          116, 116, 116, 116, 116, 116, 116, 116, 116, 116, 116, 116, 116, 116,\n",
       "          116, 116, 116]]),\n",
       " tensor([[1, 1, 1, 1, 1, 1, 1, 1, 1, 1, 0, 0, 0, 0, 0, 0, 0, 0, 0, 0, 0, 0, 0, 0,\n",
       "          0, 0, 0, 0, 0, 0, 0, 0, 0, 0, 0, 0, 0, 0, 0, 0, 0, 0, 0, 0, 0]]),\n",
       " tensor([[7., 3., 0., 0.]]))"
      ]
     },
     "execution_count": 14,
     "metadata": {},
     "output_type": "execute_result"
    }
   ],
   "source": [
    "preprocess_password(data.password[0])"
   ]
  },
  {
   "cell_type": "code",
   "execution_count": 15,
   "id": "6980e5c0-740e-44b7-9790-5d100559fb47",
   "metadata": {},
   "outputs": [],
   "source": [
    "def build_dataset(data: pd.DataFrame) -> TensorDataset:\n",
    "    train_dataset_ids, train_dataset_attn_mask, train_dataset_meta_features = [], [], []\n",
    "    \n",
    "    for word in tqdm(data.password):\n",
    "        sample_ids, sample_attn_mask, meta_feature = preprocess_password(word)\n",
    "        train_dataset_ids.append(sample_ids)\n",
    "        train_dataset_attn_mask.append(sample_attn_mask)\n",
    "        train_dataset_meta_features.append(meta_feature)\n",
    "    \n",
    "    train_dataset_ids, train_dataset_attn_mask, train_dataset_meta_features = torch.cat(train_dataset_ids, dim=0), torch.cat(train_dataset_attn_mask, dim=0), torch.cat(train_dataset_meta_features, dim=0)\n",
    "    labels = torch.from_numpy(data.strength.to_numpy())\n",
    "\n",
    "    dataset = TensorDataset(train_dataset_ids, train_dataset_attn_mask, train_dataset_meta_features, labels)\n",
    "    \n",
    "    return dataset"
   ]
  },
  {
   "cell_type": "code",
   "execution_count": 16,
   "id": "f43e1f11-0e86-498e-89c0-a8901cb90dbb",
   "metadata": {},
   "outputs": [
    {
     "data": {
      "application/vnd.jupyter.widget-view+json": {
       "model_id": "9a8a4f59dc3b43b2826e5434603168da",
       "version_major": 2,
       "version_minor": 0
      },
      "text/plain": [
       "  0%|          | 0/100000 [00:00<?, ?it/s]"
      ]
     },
     "metadata": {},
     "output_type": "display_data"
    }
   ],
   "source": [
    "dataset = build_dataset(data)"
   ]
  },
  {
   "cell_type": "markdown",
   "id": "ebe6d3fe-c26f-4091-bf8a-96e2fd48e4bf",
   "metadata": {},
   "source": [
    "# 7. Model"
   ]
  },
  {
   "cell_type": "markdown",
   "id": "a9240fe1-99c9-4a25-92f6-54abd77e8fec",
   "metadata": {},
   "source": [
    "В качестве модели я реализую Bidirectional LSTM c Attention'ом. Которая помимо обработки предпосчитанных статистик может уловить закономерности в порядке символов.\n",
    "\n",
    "В данной задаче ее главное преимущество над трансформером заключается в том, что у нее меньше обучаемых параметров и поэтому на такой выборке она быстрее сойдется и с лучшим качеством. А Attention позволит моделе не обращать внимание на PAD токены.\n",
    "\n",
    "Так же модель будет принимать на вход вектор верхнеуровневых признаков из пункта 5."
   ]
  },
  {
   "cell_type": "code",
   "execution_count": 17,
   "id": "f985bd65-2c73-46ce-87b5-8df08e305f64",
   "metadata": {},
   "outputs": [],
   "source": [
    "class AttentionPooling(nn.Module):\n",
    "    def __init__(self, hidden_dim: int = 64):\n",
    "        super().__init__()\n",
    "        \n",
    "        self.attention = nn.Sequential(\n",
    "            nn.Linear(hidden_dim, hidden_dim),\n",
    "            nn.GELU(),\n",
    "            nn.Linear(hidden_dim, 1),\n",
    "            nn.ReLU(),\n",
    "        )\n",
    "        \n",
    "    def forward(self, x: torch.FloatTensor, attention_mask: torch.LongTensor) -> torch.FloatTensor:\n",
    "        attention_scores = torch.softmax(self.attention(x) * attention_mask.unsqueeze(dim=-1), dim=-2)\n",
    "        x = (x * attention_scores).sum(dim=-2)\n",
    "        return x\n",
    "\n",
    "\n",
    "class StrengthLSTM(nn.Module):\n",
    "    def __init__(self, hidden_dim: int = 64, meta_features_dim: int = 4, num_layers: int = 1, output_dim: int = 3, bidirectional: bool = True):\n",
    "        super().__init__()\n",
    "        \n",
    "        self.embedding = nn.Embedding(VOCAB_SIZE, hidden_dim)\n",
    "        \n",
    "        self.lstm = nn.LSTM(\n",
    "            input_size=hidden_dim,\n",
    "            hidden_size=hidden_dim,\n",
    "            num_layers=num_layers,\n",
    "            batch_first=True,\n",
    "            bidirectional=bidirectional,\n",
    "        )\n",
    "        \n",
    "        self.attention_pooling = AttentionPooling(hidden_dim=hidden_dim * (1 + bidirectional))\n",
    "\n",
    "        self.meta_features_encoder = nn.Sequential(\n",
    "            nn.BatchNorm1d(meta_features_dim),\n",
    "            nn.Linear(meta_features_dim, hidden_dim)\n",
    "        )\n",
    "        \n",
    "        self.out = nn.Linear(hidden_dim * (2 + bidirectional), output_dim)\n",
    "\n",
    "    def forward(self, input_ids: torch.LongTensor, attention_mask: torch.LongTensor, meta_features: torch.FloatTensor) -> torch.FloatTensor:\n",
    "        x = self.embedding(input_ids)\n",
    "        x, (h, c) = self.lstm(x)\n",
    "        \n",
    "        pooled_x = self.attention_pooling(x, attention_mask)\n",
    "        meta_x = self.meta_features_encoder(meta_features)\n",
    "        \n",
    "        out = self.out(torch.cat([pooled_x, meta_x], dim=-1))\n",
    "        \n",
    "        return out"
   ]
  },
  {
   "cell_type": "code",
   "execution_count": 18,
   "id": "580ae99b-d825-4e67-b8c4-e4c5c5f1efc9",
   "metadata": {
    "scrolled": true
   },
   "outputs": [
    {
     "data": {
      "text/plain": [
       "StrengthLSTM(\n",
       "  (embedding): Embedding(117, 64)\n",
       "  (lstm): LSTM(64, 64, num_layers=2, batch_first=True, bidirectional=True)\n",
       "  (attention_pooling): AttentionPooling(\n",
       "    (attention): Sequential(\n",
       "      (0): Linear(in_features=128, out_features=128, bias=True)\n",
       "      (1): GELU(approximate='none')\n",
       "      (2): Linear(in_features=128, out_features=1, bias=True)\n",
       "      (3): ReLU()\n",
       "    )\n",
       "  )\n",
       "  (meta_features_encoder): Sequential(\n",
       "    (0): BatchNorm1d(4, eps=1e-05, momentum=0.1, affine=True, track_running_stats=True)\n",
       "    (1): Linear(in_features=4, out_features=64, bias=True)\n",
       "  )\n",
       "  (out): Linear(in_features=192, out_features=3, bias=True)\n",
       ")"
      ]
     },
     "execution_count": 18,
     "metadata": {},
     "output_type": "execute_result"
    }
   ],
   "source": [
    "model = StrengthLSTM(\n",
    "    hidden_dim=64, \n",
    "    num_layers=2, \n",
    "    meta_features_dim=4,\n",
    "    output_dim=3, \n",
    "    bidirectional=True,\n",
    ")\n",
    "\n",
    "model"
   ]
  },
  {
   "cell_type": "markdown",
   "id": "7e3322cc-e06e-4249-9435-2ef80e29c082",
   "metadata": {},
   "source": [
    "# 8. Loops"
   ]
  },
  {
   "cell_type": "code",
   "execution_count": 19,
   "id": "7a8b89c2-0e61-4784-a200-0c504093352a",
   "metadata": {},
   "outputs": [],
   "source": [
    "def train_epoch(model, data_loader, loss_function, optimizer, scheduler, device, n_acum_steps = 1):\n",
    "    model.to(device)\n",
    "    model.train()\n",
    "    total_train_loss = 0\n",
    "\n",
    "    dl_size = len(data_loader)\n",
    "    \n",
    "    preds = []\n",
    "    targets = []\n",
    "\n",
    "    batch_i = 0\n",
    "    for batch in tqdm(data_loader):\n",
    "        input_ids, attention_masks, meta_features, target = batch\n",
    "        input_ids = input_ids.to(device)\n",
    "        attention_masks = attention_masks.to(device)\n",
    "        meta_features = meta_features.to(device)\n",
    "        target = target.to(device)\n",
    "        \n",
    "        optimizer.zero_grad()        \n",
    "        logits = model(input_ids, attention_masks, meta_features)\n",
    "                \n",
    "        preds.append(logits.argmax(dim=1).detach().cpu())\n",
    "        targets.append(target.cpu())\n",
    "                \n",
    "        loss = loss_function(logits, target) / n_acum_steps\n",
    "        total_train_loss += loss.item()\n",
    "        \n",
    "        loss.backward()\n",
    "        if batch_i % n_acum_steps == 0 or batch_i == len(data_loader.dataset): \n",
    "            torch.nn.utils.clip_grad_norm_(model.parameters(), 1.0)\n",
    "            optimizer.step()\n",
    "            scheduler.step()\n",
    "\n",
    "        batch_i += 1\n",
    "\n",
    "    preds = torch.cat(preds, dim=0).numpy()\n",
    "    targets = torch.cat(targets, dim=0).numpy()\n",
    "    balanced_acc = balanced_accuracy_score(targets, preds)\n",
    "    f1 = f1_score(targets, preds, average=\"weighted\")\n",
    "\n",
    "    metrics = {\n",
    "        \"Train Loss\": total_train_loss / dl_size,\n",
    "        \"Train Balanced Accuracy\": balanced_acc,\n",
    "        \"Train F1\": f1,\n",
    "    }\n",
    "    \n",
    "    return metrics\n",
    "    \n",
    "    \n",
    "def eval_epoch(model, data_loader, loss_function, device):\n",
    "    model.to(device)\n",
    "    model.eval()\n",
    "    total_train_loss = 0\n",
    "    \n",
    "    preds = []\n",
    "    targets = []\n",
    "\n",
    "    dl_size = len(data_loader)\n",
    "\n",
    "    \n",
    "    for batch in tqdm(data_loader):\n",
    "        input_ids, attention_masks, meta_features, target = batch\n",
    "        input_ids = input_ids.to(device)\n",
    "        attention_masks = attention_masks.to(device)\n",
    "        meta_features = meta_features.to(device)\n",
    "        target = target.to(device)\n",
    "        \n",
    "        with torch.no_grad():\n",
    "            logits = model(input_ids, attention_masks, meta_features)\n",
    "            preds.append(logits.argmax(dim=1).cpu())\n",
    "            targets.append(target.cpu())\n",
    "        \n",
    "        loss = loss_function(logits, target)\n",
    "        total_train_loss += loss.item()\n",
    "            \n",
    "    preds = torch.cat(preds, dim=0).numpy()\n",
    "    targets = torch.cat(targets, dim=0).numpy()\n",
    "    balanced_acc = balanced_accuracy_score(targets, preds)\n",
    "    f1 = f1_score(targets, preds, average=\"weighted\")\n",
    "    \n",
    "    metrics = {\n",
    "        \"Eval Loss\": total_train_loss / dl_size,\n",
    "        \"Eval Balanced Accuracy\": balanced_acc,\n",
    "        \"Eval F1\": f1,\n",
    "    }\n",
    "    \n",
    "    return metrics\n",
    "\n",
    "\n",
    "def single_model(model, \n",
    "                 train_dataset, \n",
    "                 eval_dataset,  \n",
    "                 loss_function, \n",
    "                 optimizer,\n",
    "                 get_scheduler,\n",
    "                 device: Union[torch.device, str] = torch.device(\"cuda\"),\n",
    "                 random_state: int = 69, \n",
    "                 shuffle: bool = True, \n",
    "                 epochs: int = 5, \n",
    "                 lr: float = 1e-6,\n",
    "                 num_workers: int = 1,\n",
    "                 batch_size: int = 32,\n",
    "                 n_acum_steps: int = 0):\n",
    "    loss_function.to(device)\n",
    "\n",
    "    train_loader = torch.utils.data.DataLoader(\n",
    "                  train_dataset, \n",
    "                  batch_size=batch_size,\n",
    "                  shuffle=shuffle,\n",
    "                  num_workers=num_workers\n",
    "    )\n",
    "\n",
    "    eval_loader = torch.utils.data.DataLoader(\n",
    "                  eval_dataset,\n",
    "                  batch_size=batch_size,\n",
    "                  shuffle=False,\n",
    "                  num_workers=num_workers\n",
    "    )\n",
    "    \n",
    "    total_steps = len(train_loader) * epochs \n",
    "\n",
    "    scheduler = get_scheduler(optimizer, \n",
    "                                        num_warmup_steps = 0, # Default value in run_glue.py\n",
    "                                        num_training_steps = total_steps)\n",
    "\n",
    "    for epoch_i in range(0, epochs):\n",
    "        train_metrics = train_epoch(model, train_loader, loss_function, optimizer, scheduler, device, n_acum_steps)\n",
    "        eval_metrics = eval_epoch(model, eval_loader, loss_function, device)\n",
    "        \n",
    "        print(f\"EPOCH: {epoch_i}\")\n",
    "        print(train_metrics)\n",
    "        print(eval_metrics)\n"
   ]
  },
  {
   "cell_type": "markdown",
   "id": "7ac7852e-b96e-46eb-8020-4fe36c863a24",
   "metadata": {},
   "source": [
    "Поскольку распределение таргета несбалансировано, стратифицируем разделение на train, test по таргету"
   ]
  },
  {
   "cell_type": "code",
   "execution_count": 20,
   "id": "c67eaf7a-5afc-4444-9ad3-2c6c96b56d9c",
   "metadata": {},
   "outputs": [
    {
     "data": {
      "text/plain": [
       "(80000, 20000)"
      ]
     },
     "execution_count": 20,
     "metadata": {},
     "output_type": "execute_result"
    }
   ],
   "source": [
    "train_inds, eval_inds = train_test_split([i for i in range(len(dataset))], stratify=data.strength, test_size=0.2, random_state=SEED)\n",
    "train_dataset = Subset(dataset, indices=train_inds)\n",
    "eval_dataset = Subset(dataset, indices=eval_inds)\n",
    "\n",
    "len(train_inds), len(eval_inds)"
   ]
  },
  {
   "cell_type": "code",
   "execution_count": 21,
   "id": "cf185ba9-5374-429e-a5f9-8bf716c46f21",
   "metadata": {},
   "outputs": [],
   "source": [
    "model = StrengthLSTM(\n",
    "    hidden_dim=64, \n",
    "    num_layers=2,\n",
    "    meta_features_dim=4,\n",
    "    output_dim=3, \n",
    "    bidirectional=True,\n",
    ")\n",
    "\n",
    "optimizer = torch.optim.AdamW([\n",
    "    {\"params\": model.embedding.parameters(), \"lr\" : 1e-4},\n",
    "    {\"params\": model.lstm.parameters(), \"lr\" : 1e-4},\n",
    "    {\"params\": model.out.parameters(), \"lr\" : 1e-4},\n",
    "])\n",
    "\n",
    "get_scheduler = get_cosine_schedule_with_warmup"
   ]
  },
  {
   "cell_type": "markdown",
   "id": "4509cd32-fe7a-4f25-b101-b5f994fdcdcf",
   "metadata": {},
   "source": [
    "В пайплайне присутствуют реализованы: обучение, валидация, косинусный шедулер, аккумуляция градиентов (для симмуляции бОльших батчей) \n",
    "\n",
    "Из пункта 4. следует, что таргет дисбалансный, следовательно Accuracy будет высоким из-за дизбаланса и не отразит реального качества нашего классификатора. Поэтому качестве метрики выбраны Accuracy и Weighted F1, которые устойчивы к дизбалансу классов."
   ]
  },
  {
   "cell_type": "code",
   "execution_count": null,
   "id": "c14f7175-7ea2-4c4c-a674-255c9abf9f9e",
   "metadata": {},
   "outputs": [
    {
     "data": {
      "application/vnd.jupyter.widget-view+json": {
       "model_id": "9f3d6aa2914c401d8d84e67cc6d88e6b",
       "version_major": 2,
       "version_minor": 0
      },
      "text/plain": [
       "  0%|          | 0/625 [00:00<?, ?it/s]"
      ]
     },
     "metadata": {},
     "output_type": "display_data"
    },
    {
     "data": {
      "application/vnd.jupyter.widget-view+json": {
       "model_id": "3c7cbe0bfbfe4889aee0d8c796c2c6c5",
       "version_major": 2,
       "version_minor": 0
      },
      "text/plain": [
       "  0%|          | 0/157 [00:00<?, ?it/s]"
      ]
     },
     "metadata": {},
     "output_type": "display_data"
    },
    {
     "name": "stdout",
     "output_type": "stream",
     "text": [
      "EPOCH: 0\n",
      "{'Train Loss': 0.47373441146612166, 'Train Balanced Accuracy': 0.5998956994191396, 'Train F1': 0.8096415701774291}\n",
      "{'Eval Loss': 0.07086125675849854, 'Eval Balanced Accuracy': 0.968130236770994, 'Eval F1': 0.9866652340037056}\n"
     ]
    },
    {
     "data": {
      "application/vnd.jupyter.widget-view+json": {
       "model_id": "d734a8a41e2a458a8bfe5b4bd773eff5",
       "version_major": 2,
       "version_minor": 0
      },
      "text/plain": [
       "  0%|          | 0/625 [00:00<?, ?it/s]"
      ]
     },
     "metadata": {},
     "output_type": "display_data"
    },
    {
     "data": {
      "application/vnd.jupyter.widget-view+json": {
       "model_id": "496a04fcd0014ec29e74702212159b88",
       "version_major": 2,
       "version_minor": 0
      },
      "text/plain": [
       "  0%|          | 0/157 [00:00<?, ?it/s]"
      ]
     },
     "metadata": {},
     "output_type": "display_data"
    },
    {
     "name": "stdout",
     "output_type": "stream",
     "text": [
      "EPOCH: 1\n",
      "{'Train Loss': 0.03479155773669481, 'Train Balanced Accuracy': 0.9918221197111063, 'Train F1': 0.9943762637999575}\n",
      "{'Eval Loss': 0.019971698498839785, 'Eval Balanced Accuracy': 0.994653827175095, 'Eval F1': 0.9958523521188803}\n"
     ]
    },
    {
     "data": {
      "application/vnd.jupyter.widget-view+json": {
       "model_id": "ba6d7026954849648a65e776f7f42c4d",
       "version_major": 2,
       "version_minor": 0
      },
      "text/plain": [
       "  0%|          | 0/625 [00:00<?, ?it/s]"
      ]
     },
     "metadata": {},
     "output_type": "display_data"
    },
    {
     "data": {
      "application/vnd.jupyter.widget-view+json": {
       "model_id": "f289d675a3654503861e633b72e37439",
       "version_major": 2,
       "version_minor": 0
      },
      "text/plain": [
       "  0%|          | 0/157 [00:00<?, ?it/s]"
      ]
     },
     "metadata": {},
     "output_type": "display_data"
    },
    {
     "name": "stdout",
     "output_type": "stream",
     "text": [
      "EPOCH: 2\n",
      "{'Train Loss': 0.011453729507327079, 'Train Balanced Accuracy': 0.9971178229740932, 'Train F1': 0.9980501257301532}\n",
      "{'Eval Loss': 0.012226268038106192, 'Eval Balanced Accuracy': 0.9925348066876132, 'Eval F1': 0.9968891614294129}\n"
     ]
    },
    {
     "data": {
      "application/vnd.jupyter.widget-view+json": {
       "model_id": "9ed88cb0dc8842559ebe34b2b808457e",
       "version_major": 2,
       "version_minor": 0
      },
      "text/plain": [
       "  0%|          | 0/625 [00:00<?, ?it/s]"
      ]
     },
     "metadata": {},
     "output_type": "display_data"
    },
    {
     "data": {
      "application/vnd.jupyter.widget-view+json": {
       "model_id": "28d0865834924886a3bf976d237f891e",
       "version_major": 2,
       "version_minor": 0
      },
      "text/plain": [
       "  0%|          | 0/157 [00:00<?, ?it/s]"
      ]
     },
     "metadata": {},
     "output_type": "display_data"
    },
    {
     "name": "stdout",
     "output_type": "stream",
     "text": [
      "EPOCH: 3\n",
      "{'Train Loss': 0.007860642849095165, 'Train Balanced Accuracy': 0.9979162291712118, 'Train F1': 0.9985376483583673}\n",
      "{'Eval Loss': 0.00547466480549852, 'Eval Balanced Accuracy': 0.9987713502910962, 'Eval F1': 0.9991002437074274}\n"
     ]
    },
    {
     "data": {
      "application/vnd.jupyter.widget-view+json": {
       "model_id": "764d50794434494ab4d57702c2d4b6fc",
       "version_major": 2,
       "version_minor": 0
      },
      "text/plain": [
       "  0%|          | 0/625 [00:00<?, ?it/s]"
      ]
     },
     "metadata": {},
     "output_type": "display_data"
    }
   ],
   "source": [
    "single_model(\n",
    "    model=model, \n",
    "    train_dataset=train_dataset, \n",
    "    eval_dataset=eval_dataset,   \n",
    "    loss_function=nn.CrossEntropyLoss(), \n",
    "    optimizer=optimizer,\n",
    "    get_scheduler=get_scheduler,\n",
    "    device=torch.device(\"cpu\"),\n",
    "    random_state=SEED, \n",
    "    shuffle=True, \n",
    "    epochs=10, \n",
    "    num_workers=0,\n",
    "    batch_size=128,\n",
    "    n_acum_steps=1   \n",
    ")"
   ]
  }
 ],
 "metadata": {
  "kernelspec": {
   "display_name": "Python 3 (ipykernel)",
   "language": "python",
   "name": "python3"
  },
  "language_info": {
   "codemirror_mode": {
    "name": "ipython",
    "version": 3
   },
   "file_extension": ".py",
   "mimetype": "text/x-python",
   "name": "python",
   "nbconvert_exporter": "python",
   "pygments_lexer": "ipython3",
   "version": "3.9.11"
  }
 },
 "nbformat": 4,
 "nbformat_minor": 5
}

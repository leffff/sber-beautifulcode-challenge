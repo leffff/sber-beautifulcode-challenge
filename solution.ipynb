{
 "cells": [
  {
   "cell_type": "markdown",
   "id": "ca488121-b6d8-43cc-a3d1-463fd7be3195",
   "metadata": {},
   "source": [
    "# Install requirements"
   ]
  },
  {
   "cell_type": "code",
   "execution_count": 1,
   "id": "87c3093a-9dbe-4c28-8aad-f43a9b1b51f1",
   "metadata": {
    "scrolled": true
   },
   "outputs": [
    {
     "name": "stdout",
     "output_type": "stream",
     "text": [
      "Requirement already satisfied: numpy in ./venv/lib/python3.9/site-packages (from -r requirements.txt (line 1)) (1.25.2)\n",
      "Requirement already satisfied: pandas in ./venv/lib/python3.9/site-packages (from -r requirements.txt (line 2)) (2.1.0)\n",
      "Requirement already satisfied: torch in ./venv/lib/python3.9/site-packages (from -r requirements.txt (line 3)) (2.0.1)\n",
      "Requirement already satisfied: scikit-learn in ./venv/lib/python3.9/site-packages (from -r requirements.txt (line 4)) (1.3.0)\n",
      "Requirement already satisfied: tqdm in ./venv/lib/python3.9/site-packages (from -r requirements.txt (line 5)) (4.66.1)\n",
      "Requirement already satisfied: transformers in ./venv/lib/python3.9/site-packages (from -r requirements.txt (line 6)) (4.33.1)\n",
      "Requirement already satisfied: python-dateutil>=2.8.2 in ./venv/lib/python3.9/site-packages (from pandas->-r requirements.txt (line 2)) (2.8.2)\n",
      "Requirement already satisfied: pytz>=2020.1 in ./venv/lib/python3.9/site-packages (from pandas->-r requirements.txt (line 2)) (2023.3.post1)\n",
      "Requirement already satisfied: tzdata>=2022.1 in ./venv/lib/python3.9/site-packages (from pandas->-r requirements.txt (line 2)) (2023.3)\n",
      "Requirement already satisfied: filelock in ./venv/lib/python3.9/site-packages (from torch->-r requirements.txt (line 3)) (3.12.3)\n",
      "Requirement already satisfied: typing-extensions in ./venv/lib/python3.9/site-packages (from torch->-r requirements.txt (line 3)) (4.7.1)\n",
      "Requirement already satisfied: sympy in ./venv/lib/python3.9/site-packages (from torch->-r requirements.txt (line 3)) (1.12)\n",
      "Requirement already satisfied: networkx in ./venv/lib/python3.9/site-packages (from torch->-r requirements.txt (line 3)) (3.1)\n",
      "Requirement already satisfied: jinja2 in ./venv/lib/python3.9/site-packages (from torch->-r requirements.txt (line 3)) (3.1.2)\n",
      "Requirement already satisfied: scipy>=1.5.0 in ./venv/lib/python3.9/site-packages (from scikit-learn->-r requirements.txt (line 4)) (1.11.2)\n",
      "Requirement already satisfied: joblib>=1.1.1 in ./venv/lib/python3.9/site-packages (from scikit-learn->-r requirements.txt (line 4)) (1.3.2)\n",
      "Requirement already satisfied: threadpoolctl>=2.0.0 in ./venv/lib/python3.9/site-packages (from scikit-learn->-r requirements.txt (line 4)) (3.2.0)\n",
      "Requirement already satisfied: huggingface-hub<1.0,>=0.15.1 in ./venv/lib/python3.9/site-packages (from transformers->-r requirements.txt (line 6)) (0.17.1)\n",
      "Requirement already satisfied: packaging>=20.0 in ./venv/lib/python3.9/site-packages (from transformers->-r requirements.txt (line 6)) (23.1)\n",
      "Requirement already satisfied: pyyaml>=5.1 in ./venv/lib/python3.9/site-packages (from transformers->-r requirements.txt (line 6)) (6.0.1)\n",
      "Requirement already satisfied: regex!=2019.12.17 in ./venv/lib/python3.9/site-packages (from transformers->-r requirements.txt (line 6)) (2023.8.8)\n",
      "Requirement already satisfied: requests in ./venv/lib/python3.9/site-packages (from transformers->-r requirements.txt (line 6)) (2.31.0)\n",
      "Requirement already satisfied: tokenizers!=0.11.3,<0.14,>=0.11.1 in ./venv/lib/python3.9/site-packages (from transformers->-r requirements.txt (line 6)) (0.13.3)\n",
      "Requirement already satisfied: safetensors>=0.3.1 in ./venv/lib/python3.9/site-packages (from transformers->-r requirements.txt (line 6)) (0.3.3)\n",
      "Requirement already satisfied: fsspec in ./venv/lib/python3.9/site-packages (from huggingface-hub<1.0,>=0.15.1->transformers->-r requirements.txt (line 6)) (2023.9.0)\n",
      "Requirement already satisfied: six>=1.5 in ./venv/lib/python3.9/site-packages (from python-dateutil>=2.8.2->pandas->-r requirements.txt (line 2)) (1.16.0)\n",
      "Requirement already satisfied: MarkupSafe>=2.0 in ./venv/lib/python3.9/site-packages (from jinja2->torch->-r requirements.txt (line 3)) (2.1.3)\n",
      "Requirement already satisfied: charset-normalizer<4,>=2 in ./venv/lib/python3.9/site-packages (from requests->transformers->-r requirements.txt (line 6)) (3.2.0)\n",
      "Requirement already satisfied: idna<4,>=2.5 in ./venv/lib/python3.9/site-packages (from requests->transformers->-r requirements.txt (line 6)) (3.4)\n",
      "Requirement already satisfied: urllib3<3,>=1.21.1 in ./venv/lib/python3.9/site-packages (from requests->transformers->-r requirements.txt (line 6)) (2.0.4)\n",
      "Requirement already satisfied: certifi>=2017.4.17 in ./venv/lib/python3.9/site-packages (from requests->transformers->-r requirements.txt (line 6)) (2023.7.22)\n",
      "Requirement already satisfied: mpmath>=0.19 in ./venv/lib/python3.9/site-packages (from sympy->torch->-r requirements.txt (line 3)) (1.3.0)\n"
     ]
    }
   ],
   "source": [
    "!pip install -r requirements.txt"
   ]
  },
  {
   "cell_type": "markdown",
   "id": "d6ca7815-bd93-4d89-89d3-696912603295",
   "metadata": {},
   "source": [
    "# Import libraries"
   ]
  },
  {
   "cell_type": "code",
   "execution_count": 1,
   "id": "efbfebb0-784a-4d89-8704-33b87a9837d8",
   "metadata": {},
   "outputs": [],
   "source": [
    "from typing import Dict, List, Tuple, Union\n",
    "import random\n",
    "\n",
    "import numpy as np\n",
    "import pandas as pd\n",
    "import torch\n",
    "from torch import nn\n",
    "import torch.nn.functional as F\n",
    "from torch.utils.data import TensorDataset, DataLoader, Subset\n",
    "from transformers import get_cosine_schedule_with_warmup\n",
    "from sklearn.model_selection import train_test_split\n",
    "from sklearn.metrics import f1_score, precision_score, recall_score, balanced_accuracy_score\n",
    "\n",
    "import matplotlib.pyplot as plt\n",
    "import seaborn as sns\n",
    "\n",
    "from tqdm.auto import tqdm"
   ]
  },
  {
   "cell_type": "code",
   "execution_count": 2,
   "id": "e708530a-4e3c-436b-9924-89a0c2f89e03",
   "metadata": {},
   "outputs": [],
   "source": [
    "SEED = 42\n",
    "\n",
    "\n",
    "def seed_all(seed_value):\n",
    "    random.seed(seed_value)\n",
    "    np.random.seed(seed_value)\n",
    "    torch.manual_seed(seed_value)\n",
    "    if torch.cuda.is_available():\n",
    "        torch.cuda.manual_seed(seed_value)\n",
    "        torch.cuda.manual_seed_all(seed_value)\n",
    "        torch.backends.cudnn.deterministic = False\n",
    "        \n",
    "seed_all(SEED)"
   ]
  },
  {
   "cell_type": "markdown",
   "id": "a624efde-c60d-49dd-a47a-0c82a4e74880",
   "metadata": {},
   "source": [
    "# Data"
   ]
  },
  {
   "cell_type": "code",
   "execution_count": 3,
   "id": "47c6c264-1b1d-4934-b5f2-1dd86aca0e6c",
   "metadata": {},
   "outputs": [
    {
     "data": {
      "text/html": [
       "<div>\n",
       "<style scoped>\n",
       "    .dataframe tbody tr th:only-of-type {\n",
       "        vertical-align: middle;\n",
       "    }\n",
       "\n",
       "    .dataframe tbody tr th {\n",
       "        vertical-align: top;\n",
       "    }\n",
       "\n",
       "    .dataframe thead th {\n",
       "        text-align: right;\n",
       "    }\n",
       "</style>\n",
       "<table border=\"1\" class=\"dataframe\">\n",
       "  <thead>\n",
       "    <tr style=\"text-align: right;\">\n",
       "      <th></th>\n",
       "      <th>password</th>\n",
       "      <th>strength</th>\n",
       "    </tr>\n",
       "  </thead>\n",
       "  <tbody>\n",
       "    <tr>\n",
       "      <th>0</th>\n",
       "      <td>yrtzuab476</td>\n",
       "      <td>1</td>\n",
       "    </tr>\n",
       "    <tr>\n",
       "      <th>1</th>\n",
       "      <td>yEdnN9jc1NgzkkBP</td>\n",
       "      <td>2</td>\n",
       "    </tr>\n",
       "    <tr>\n",
       "      <th>2</th>\n",
       "      <td>sarita99</td>\n",
       "      <td>1</td>\n",
       "    </tr>\n",
       "    <tr>\n",
       "      <th>3</th>\n",
       "      <td>Suramerica2015</td>\n",
       "      <td>2</td>\n",
       "    </tr>\n",
       "    <tr>\n",
       "      <th>4</th>\n",
       "      <td>PPRbMvDIxMQ19TMo</td>\n",
       "      <td>2</td>\n",
       "    </tr>\n",
       "    <tr>\n",
       "      <th>...</th>\n",
       "      <td>...</td>\n",
       "      <td>...</td>\n",
       "    </tr>\n",
       "    <tr>\n",
       "      <th>99995</th>\n",
       "      <td>aulona044</td>\n",
       "      <td>1</td>\n",
       "    </tr>\n",
       "    <tr>\n",
       "      <th>99996</th>\n",
       "      <td>5201314ding</td>\n",
       "      <td>1</td>\n",
       "    </tr>\n",
       "    <tr>\n",
       "      <th>99997</th>\n",
       "      <td>isaac19725</td>\n",
       "      <td>1</td>\n",
       "    </tr>\n",
       "    <tr>\n",
       "      <th>99998</th>\n",
       "      <td>toji25</td>\n",
       "      <td>0</td>\n",
       "    </tr>\n",
       "    <tr>\n",
       "      <th>99999</th>\n",
       "      <td>midnight000</td>\n",
       "      <td>1</td>\n",
       "    </tr>\n",
       "  </tbody>\n",
       "</table>\n",
       "<p>100000 rows × 2 columns</p>\n",
       "</div>"
      ],
      "text/plain": [
       "               password  strength\n",
       "0            yrtzuab476         1\n",
       "1      yEdnN9jc1NgzkkBP         2\n",
       "2              sarita99         1\n",
       "3        Suramerica2015         2\n",
       "4      PPRbMvDIxMQ19TMo         2\n",
       "...                 ...       ...\n",
       "99995         aulona044         1\n",
       "99996       5201314ding         1\n",
       "99997        isaac19725         1\n",
       "99998            toji25         0\n",
       "99999       midnight000         1\n",
       "\n",
       "[100000 rows x 2 columns]"
      ]
     },
     "execution_count": 3,
     "metadata": {},
     "output_type": "execute_result"
    }
   ],
   "source": [
    "data = pd.read_csv(\"data.txt\")\n",
    "data"
   ]
  },
  {
   "cell_type": "markdown",
   "id": "e62b5c45-bfe5-460a-a344-fcca78330f6a",
   "metadata": {},
   "source": [
    "# EDA"
   ]
  },
  {
   "cell_type": "code",
   "execution_count": 4,
   "id": "c57ae4f2-8f80-44f9-b03d-13d64545275b",
   "metadata": {
    "scrolled": true
   },
   "outputs": [],
   "source": [
    "from collections import Counter\n",
    "\n",
    "def get_char_statistics(passwords) -> Dict[str, int]:\n",
    "    all_characters = list(\"\".join(passwords.to_list()))\n",
    "    statistics = dict(sorted(Counter(all_characters).items(), key=lambda x: x[1], reverse=True))\n",
    "    return statistics\n",
    "\n",
    "\n",
    "char_statistics = get_char_statistics(data.password)\n"
   ]
  },
  {
   "cell_type": "code",
   "execution_count": 5,
   "id": "e52da500-3d57-475b-a33b-b70589bfc5ed",
   "metadata": {},
   "outputs": [
    {
     "name": "stderr",
     "output_type": "stream",
     "text": [
      "/Users/user/PycharmProjects/sber-beautifulcode-challenge/venv/lib/python3.9/site-packages/IPython/core/pylabtools.py:152: UserWarning: Glyph 28 (\u001c",
      ") missing from current font.\n",
      "  fig.canvas.print_figure(bytes_io, **kw)\n"
     ]
    },
    {
     "data": {
      "image/png": "[encoded data removed]",
      "text/plain": [
       "<Figure size 1500x1500 with 1 Axes>"
      ]
     },
     "metadata": {},
     "output_type": "display_data"
    }
   ],
   "source": [
    "fig, ax = plt.subplots(figsize=(15, 15))\n",
    "\n",
    "chars = list(char_statistics.keys())\n",
    "stats = list(char_statistics.values())\n",
    "\n",
    "ax.bar(chars, stats)\n",
    "plt.title('Character frequencies')\n",
    "\n",
    "plt.show()"
   ]
  },
  {
   "cell_type": "code",
   "execution_count": 6,
   "id": "6633c720-d1b2-47af-b65d-b4a7383eefea",
   "metadata": {},
   "outputs": [
    {
     "data": {
      "text/plain": [
       "<Axes: xlabel='strength'>"
      ]
     },
     "execution_count": 6,
     "metadata": {},
     "output_type": "execute_result"
    },
    {
     "data": {
      "image/png": "[encoded data removed]",
      "text/plain": [
       "<Figure size 640x480 with 1 Axes>"
      ]
     },
     "metadata": {},
     "output_type": "display_data"
    }
   ],
   "source": [
    "data.strength.value_counts().plot(kind='bar')"
   ]
  },
  {
   "cell_type": "code",
   "execution_count": 7,
   "id": "32513616-fca5-44cd-801d-6d169949cc37",
   "metadata": {},
   "outputs": [
    {
     "name": "stderr",
     "output_type": "stream",
     "text": [
      "/Users/user/PycharmProjects/sber-beautifulcode-challenge/venv/lib/python3.9/site-packages/seaborn/_oldcore.py:1498: FutureWarning: is_categorical_dtype is deprecated and will be removed in a future version. Use isinstance(dtype, CategoricalDtype) instead\n",
      "  if pd.api.types.is_categorical_dtype(vector):\n",
      "/Users/user/PycharmProjects/sber-beautifulcode-challenge/venv/lib/python3.9/site-packages/seaborn/_oldcore.py:1119: FutureWarning: use_inf_as_na option is deprecated and will be removed in a future version. Convert inf values to NaN before operating instead.\n",
      "  with pd.option_context('mode.use_inf_as_na', True):\n"
     ]
    },
    {
     "data": {
      "text/plain": [
       "<seaborn.axisgrid.FacetGrid at 0x7fa522b90310>"
      ]
     },
     "execution_count": 7,
     "metadata": {},
     "output_type": "execute_result"
    },
    {
     "data": {
      "image/png": "[encoded data removed]",
      "text/plain": [
       "<Figure size 500x500 with 1 Axes>"
      ]
     },
     "metadata": {},
     "output_type": "display_data"
    }
   ],
   "source": [
    "sns.displot(data.password.apply(lambda x: len(x)), bins=30)"
   ]
  },
  {
   "cell_type": "markdown",
   "id": "4fa010d1-916f-4146-81e8-c7f3ab718c83",
   "metadata": {},
   "source": [
    "# Tokenization"
   ]
  },
  {
   "cell_type": "code",
   "execution_count": 8,
   "id": "f8cdf74b-482a-4806-824e-cbaf9a1e2ce8",
   "metadata": {},
   "outputs": [
    {
     "data": {
      "text/plain": [
       "{'a': 0,\n",
       " '1': 1,\n",
       " 'e': 2,\n",
       " '2': 3,\n",
       " 'i': 4,\n",
       " '0': 5,\n",
       " 'o': 6,\n",
       " '3': 7,\n",
       " 'n': 8,\n",
       " 'r': 9,\n",
       " '9': 10,\n",
       " 's': 11,\n",
       " '4': 12,\n",
       " '5': 13,\n",
       " 'l': 14,\n",
       " 'u': 15,\n",
       " '8': 16,\n",
       " 'm': 17,\n",
       " 't': 18,\n",
       " '6': 19,\n",
       " '7': 20,\n",
       " 'k': 21,\n",
       " 'c': 22,\n",
       " 'y': 23,\n",
       " 'd': 24,\n",
       " 'g': 25,\n",
       " 'h': 26,\n",
       " 'p': 27,\n",
       " 'b': 28,\n",
       " 'w': 29,\n",
       " 'j': 30,\n",
       " 'z': 31,\n",
       " 'v': 32,\n",
       " 'f': 33,\n",
       " 'x': 34,\n",
       " 'q': 35,\n",
       " 'A': 36,\n",
       " 'M': 37,\n",
       " 'N': 38,\n",
       " 'Q': 39,\n",
       " 'D': 40,\n",
       " 'T': 41,\n",
       " 'O': 42,\n",
       " 'E': 43,\n",
       " 'I': 44,\n",
       " 'U': 45,\n",
       " 'Y': 46,\n",
       " 'S': 47,\n",
       " 'R': 48,\n",
       " 'L': 49,\n",
       " 'K': 50,\n",
       " 'C': 51,\n",
       " 'G': 52,\n",
       " 'P': 53,\n",
       " 'H': 54,\n",
       " 'B': 55,\n",
       " 'J': 56,\n",
       " 'F': 57,\n",
       " 'W': 58,\n",
       " 'X': 59,\n",
       " 'Z': 60,\n",
       " 'V': 61,\n",
       " '.': 62,\n",
       " '@': 63,\n",
       " '-': 64,\n",
       " '_': 65,\n",
       " '!': 66,\n",
       " '*': 67,\n",
       " '$': 68,\n",
       " '#': 69,\n",
       " ' ': 70,\n",
       " '/': 71,\n",
       " '+': 72,\n",
       " '&': 73,\n",
       " '?': 74,\n",
       " '%': 75,\n",
       " '(': 76,\n",
       " '^': 77,\n",
       " ')': 78,\n",
       " ';': 79,\n",
       " '=': 80,\n",
       " 'В': 81,\n",
       " 'Г': 82,\n",
       " '±': 83,\n",
       " ']': 84,\n",
       " '[': 85,\n",
       " '~': 86,\n",
       " '>': 87,\n",
       " 'љ': 88,\n",
       " '„': 89,\n",
       " '<': 90,\n",
       " '{': 91,\n",
       " '\\\\': 92,\n",
       " '|': 93,\n",
       " 'ѕ': 94,\n",
       " 'і': 95,\n",
       " '}': 96,\n",
       " 'є': 97,\n",
       " '\"': 98,\n",
       " 'Ў': 99,\n",
       " 'ґ': 100,\n",
       " '‘': 101,\n",
       " '«': 102,\n",
       " 'Ж': 103,\n",
       " '’': 104,\n",
       " '\\x1c': 105,\n",
       " 'ћ': 106,\n",
       " 'ќ': 107,\n",
       " '»': 108,\n",
       " 'Ѓ': 109,\n",
       " 'в': 110,\n",
       " 'Ђ': 111,\n",
       " '·': 112,\n",
       " 'Ќ': 113,\n",
       " '”': 114,\n",
       " 'Џ': 115}"
      ]
     },
     "execution_count": 8,
     "metadata": {},
     "output_type": "execute_result"
    }
   ],
   "source": [
    "char_to_id = {char: id for id, char in enumerate(list(char_statistics.keys()))}\n",
    "char_to_id"
   ]
  },
  {
   "cell_type": "code",
   "execution_count": 9,
   "id": "1360d06d-797b-42bf-aaaa-a2abc35c7596",
   "metadata": {},
   "outputs": [
    {
     "data": {
      "text/plain": [
       "117"
      ]
     },
     "execution_count": 9,
     "metadata": {},
     "output_type": "execute_result"
    }
   ],
   "source": [
    "VOCAB_SIZE = len(list(char_to_id.keys())) + 1 # 116 chars and [PAD]\n",
    "VOCAB_SIZE"
   ]
  },
  {
   "cell_type": "code",
   "execution_count": 10,
   "id": "0fe2a984-8017-499e-96a4-311494881120",
   "metadata": {},
   "outputs": [
    {
     "data": {
      "text/plain": [
       "45"
      ]
     },
     "execution_count": 10,
     "metadata": {},
     "output_type": "execute_result"
    }
   ],
   "source": [
    "MAX_LEN = data.password.apply(lambda x: len(x)).max()\n",
    "\n",
    "MAX_LEN"
   ]
  },
  {
   "cell_type": "code",
   "execution_count": 11,
   "id": "e947fae7-91d6-43e5-bcdd-c9eee7159774",
   "metadata": {},
   "outputs": [],
   "source": [
    "def get_meta_features(chars):\n",
    "    letters = 0.0\n",
    "    numbers = 0.0\n",
    "    capitals = 0.0\n",
    "    special_symbols = 0.0\n",
    "    \n",
    "    for char in chars:\n",
    "        if char.isalpha():\n",
    "            letters += 1\n",
    "            if char.lower() != char:\n",
    "                capitals += 1\n",
    "                \n",
    "        elif char.isnumeric():\n",
    "            numbers += 1\n",
    "\n",
    "        else:\n",
    "            special_symbols += 1\n",
    "\n",
    "    return [letters, numbers, capitals, special_symbols]\n",
    "\n",
    "\n",
    "def preprocess_password(word):\n",
    "    chars = list(word)\n",
    "    meta_features = get_meta_features(word)\n",
    "    ids = [char_to_id[char] for char in chars]\n",
    "    \n",
    "    attn_mask = [1 for i in range(len(ids))] + [0 for i in range(MAX_LEN - len(ids))]\n",
    "    pads = [33] * (MAX_LEN - len(ids))\n",
    "    ids = ids + pads\n",
    "\n",
    "    \n",
    "\n",
    "    return torch.LongTensor(ids).unsqueeze(0), torch.LongTensor(attn_mask).unsqueeze(0), torch.FloatTensor(meta_features).unsqueeze(0)\n",
    "    "
   ]
  },
  {
   "cell_type": "code",
   "execution_count": 12,
   "id": "7104c29c-e0e9-4e35-8d91-d0e3530f178c",
   "metadata": {},
   "outputs": [
    {
     "data": {
      "text/plain": [
       "(tensor([[23,  9, 18, 31, 15,  0, 28, 12, 20, 19, 33, 33, 33, 33, 33, 33, 33, 33,\n",
       "          33, 33, 33, 33, 33, 33, 33, 33, 33, 33, 33, 33, 33, 33, 33, 33, 33, 33,\n",
       "          33, 33, 33, 33, 33, 33, 33, 33, 33]]),\n",
       " tensor([[1, 1, 1, 1, 1, 1, 1, 1, 1, 1, 0, 0, 0, 0, 0, 0, 0, 0, 0, 0, 0, 0, 0, 0,\n",
       "          0, 0, 0, 0, 0, 0, 0, 0, 0, 0, 0, 0, 0, 0, 0, 0, 0, 0, 0, 0, 0]]),\n",
       " tensor([[7., 3., 0., 0.]]))"
      ]
     },
     "execution_count": 12,
     "metadata": {},
     "output_type": "execute_result"
    }
   ],
   "source": [
    "preprocess_password(data.password[0])"
   ]
  },
  {
   "cell_type": "code",
   "execution_count": 13,
   "id": "6980e5c0-740e-44b7-9790-5d100559fb47",
   "metadata": {},
   "outputs": [
    {
     "data": {
      "application/vnd.jupyter.widget-view+json": {
       "model_id": "67985286673141ca82363e368a247b4a",
       "version_major": 2,
       "version_minor": 0
      },
      "text/plain": [
       "  0%|          | 0/100000 [00:00<?, ?it/s]"
      ]
     },
     "metadata": {},
     "output_type": "display_data"
    }
   ],
   "source": [
    "train_dataset_ids, train_dataset_attn_mask, train_dataset_meta_features = [], [], []\n",
    "\n",
    "for word in tqdm(data.password):\n",
    "    sample_ids, sample_attn_mask, meta_feature = preprocess_password(word)\n",
    "    train_dataset_ids.append(sample_ids)\n",
    "    train_dataset_attn_mask.append(sample_attn_mask)\n",
    "    train_dataset_meta_features.append(meta_feature)\n",
    "\n",
    "train_dataset_ids, train_dataset_attn_mask, train_dataset_meta_features = torch.cat(train_dataset_ids, dim=0), torch.cat(train_dataset_attn_mask, dim=0), torch.cat(train_dataset_meta_features, dim=0)\n",
    "labels = torch.from_numpy(data.strength.to_numpy())"
   ]
  },
  {
   "cell_type": "code",
   "execution_count": 14,
   "id": "ec13b15c-859e-4802-bd86-efea4d840392",
   "metadata": {},
   "outputs": [
    {
     "data": {
      "text/plain": [
       "tensor([[23,  9, 18,  ..., 33, 33, 33],\n",
       "        [23, 43, 24,  ..., 33, 33, 33],\n",
       "        [11,  0,  9,  ..., 33, 33, 33],\n",
       "        ...,\n",
       "        [ 4, 11,  0,  ..., 33, 33, 33],\n",
       "        [18,  6, 30,  ..., 33, 33, 33],\n",
       "        [17,  4, 24,  ..., 33, 33, 33]])"
      ]
     },
     "execution_count": 14,
     "metadata": {},
     "output_type": "execute_result"
    }
   ],
   "source": [
    "train_dataset_ids"
   ]
  },
  {
   "cell_type": "code",
   "execution_count": 15,
   "id": "f43e1f11-0e86-498e-89c0-a8901cb90dbb",
   "metadata": {},
   "outputs": [
    {
     "name": "stderr",
     "output_type": "stream",
     "text": [
      "/Users/user/PycharmProjects/sber-beautifulcode-challenge/venv/lib/python3.9/site-packages/torch/utils/data/dataloader.py:560: UserWarning: This DataLoader will create 16 worker processes in total. Our suggested max number of worker in current system is 8 (`cpuset` is not taken into account), which is smaller than what this DataLoader is going to create. Please be aware that excessive worker creation might get DataLoader running slow or even freeze, lower the worker number to avoid potential slowness/freeze if necessary.\n",
      "  warnings.warn(_create_warning_msg(\n"
     ]
    }
   ],
   "source": [
    "dataset = TensorDataset(train_dataset_ids, train_dataset_attn_mask, train_dataset_meta_features, labels)\n",
    "example_dataloader = DataLoader(dataset, batch_size=64, num_workers=16)"
   ]
  },
  {
   "cell_type": "code",
   "execution_count": 16,
   "id": "45b57e1d-e3da-44a7-af0f-cd456bac754e",
   "metadata": {
    "scrolled": true
   },
   "outputs": [
    {
     "data": {
      "text/plain": [
       "[tensor([[23,  9, 18,  ..., 33, 33, 33],\n",
       "         [23, 43, 24,  ..., 33, 33, 33],\n",
       "         [11,  0,  9,  ..., 33, 33, 33],\n",
       "         ...,\n",
       "         [11, 28, 25,  ..., 33, 33, 33],\n",
       "         [26,  6, 25,  ..., 33, 33, 33],\n",
       "         [33,  0,  9,  ..., 33, 33, 33]]),\n",
       " tensor([[1, 1, 1,  ..., 0, 0, 0],\n",
       "         [1, 1, 1,  ..., 0, 0, 0],\n",
       "         [1, 1, 1,  ..., 0, 0, 0],\n",
       "         ...,\n",
       "         [1, 1, 1,  ..., 0, 0, 0],\n",
       "         [1, 1, 1,  ..., 0, 0, 0],\n",
       "         [1, 1, 1,  ..., 0, 0, 0]]),\n",
       " tensor([[ 7.,  3.,  0.,  0.],\n",
       "         [14.,  2.,  5.,  0.],\n",
       "         [ 6.,  2.,  0.,  0.],\n",
       "         [10.,  4.,  1.,  0.],\n",
       "         [14.,  2., 10.,  0.],\n",
       "         [ 4.,  4.,  0.,  0.],\n",
       "         [ 7.,  1.,  0.,  0.],\n",
       "         [ 6.,  3.,  0.,  0.],\n",
       "         [ 7.,  3.,  0.,  0.],\n",
       "         [ 3.,  6.,  0.,  0.],\n",
       "         [14.,  2., 10.,  0.],\n",
       "         [ 8.,  3.,  0.,  0.],\n",
       "         [ 5.,  2.,  0.,  0.],\n",
       "         [ 6.,  2.,  6.,  0.],\n",
       "         [ 6.,  3.,  0.,  0.],\n",
       "         [12.,  4.,  8.,  0.],\n",
       "         [ 6.,  3.,  0.,  0.],\n",
       "         [ 8.,  4.,  0.,  0.],\n",
       "         [ 4.,  4.,  0.,  0.],\n",
       "         [ 6.,  2.,  0.,  0.],\n",
       "         [ 8.,  1.,  0.,  0.],\n",
       "         [ 6.,  3.,  0.,  0.],\n",
       "         [ 5.,  3.,  0.,  0.],\n",
       "         [ 6.,  1.,  0.,  0.],\n",
       "         [ 1.,  8.,  0.,  0.],\n",
       "         [17.,  3., 12.,  0.],\n",
       "         [ 2.,  4.,  0.,  0.],\n",
       "         [ 1.,  9.,  0.,  0.],\n",
       "         [ 8.,  2.,  0.,  0.],\n",
       "         [ 7.,  3.,  0.,  0.],\n",
       "         [ 7.,  3.,  0.,  0.],\n",
       "         [ 7.,  2.,  0.,  0.],\n",
       "         [13.,  3.,  7.,  0.],\n",
       "         [ 4.,  9.,  0.,  0.],\n",
       "         [ 6.,  1.,  0.,  0.],\n",
       "         [11.,  4.,  2.,  1.],\n",
       "         [ 2.,  4.,  0.,  0.],\n",
       "         [ 8.,  4.,  0.,  0.],\n",
       "         [ 3.,  5.,  0.,  0.],\n",
       "         [ 7.,  3.,  0.,  0.],\n",
       "         [ 9.,  1.,  0.,  0.],\n",
       "         [ 6.,  4.,  0.,  0.],\n",
       "         [11.,  1.,  0.,  0.],\n",
       "         [ 7.,  3.,  0.,  0.],\n",
       "         [ 8.,  1.,  0.,  0.],\n",
       "         [ 4.,  2.,  0.,  0.],\n",
       "         [ 5.,  8.,  0.,  0.],\n",
       "         [ 6.,  4.,  0.,  0.],\n",
       "         [ 5.,  2.,  0.,  0.],\n",
       "         [ 6.,  1.,  0.,  0.],\n",
       "         [11.,  3.,  3.,  0.],\n",
       "         [10., 11.,  1.,  0.],\n",
       "         [ 5.,  2.,  0.,  0.],\n",
       "         [ 8.,  1.,  0.,  0.],\n",
       "         [14.,  2.,  7.,  0.],\n",
       "         [ 2.,  8.,  0.,  0.],\n",
       "         [ 5., 10.,  1.,  0.],\n",
       "         [14.,  2.,  7.,  0.],\n",
       "         [ 7.,  2.,  0.,  0.],\n",
       "         [ 7.,  4.,  0.,  0.],\n",
       "         [ 6.,  3.,  0.,  0.],\n",
       "         [ 7.,  1.,  0.,  0.],\n",
       "         [ 6.,  3.,  0.,  0.],\n",
       "         [10.,  2.,  0.,  0.]]),\n",
       " tensor([1, 2, 1, 2, 2, 1, 1, 1, 1, 1, 2, 1, 0, 1, 1, 2, 1, 1, 1, 1, 1, 1, 1, 0,\n",
       "         1, 2, 0, 1, 1, 1, 1, 1, 2, 1, 0, 2, 0, 1, 1, 1, 1, 1, 1, 1, 1, 0, 1, 1,\n",
       "         0, 0, 2, 2, 0, 1, 2, 1, 2, 2, 1, 1, 1, 1, 1, 1])]"
      ]
     },
     "execution_count": 16,
     "metadata": {},
     "output_type": "execute_result"
    }
   ],
   "source": [
    "next(iter(example_dataloader))"
   ]
  },
  {
   "cell_type": "markdown",
   "id": "ebe6d3fe-c26f-4091-bf8a-96e2fd48e4bf",
   "metadata": {},
   "source": [
    "# Model"
   ]
  },
  {
   "cell_type": "code",
   "execution_count": 17,
   "id": "f985bd65-2c73-46ce-87b5-8df08e305f64",
   "metadata": {},
   "outputs": [],
   "source": [
    "class AttentionPooling(nn.Module):\n",
    "    def __init__(self, d_model: int):\n",
    "        super().__init__()\n",
    "        \n",
    "        self.attention = nn.Sequential(\n",
    "            nn.Linear(d_model, d_model),\n",
    "            nn.GELU(),\n",
    "            nn.Linear(d_model, 1),\n",
    "            nn.ReLU(),\n",
    "        )\n",
    "    def forward(self, x, attention_mask):\n",
    "        attention_scores = torch.softmax(self.attention(x) * attention_mask.unsqueeze(dim=-1), dim=-2)\n",
    "        x = (x * attention_scores).sum(dim=-2)\n",
    "        return x\n",
    "\n",
    "\n",
    "class StrengthLSTM(nn.Module):\n",
    "    def __init__(self, embedding_dim, num_layers, num_meta_features, output_dim: int = 3, bidirectional: bool = True):\n",
    "        super().__init__()\n",
    "        self.embedding = nn.Embedding(VOCAB_SIZE, embedding_dim)\n",
    "        self.lstm = nn.LSTM(\n",
    "            input_size=embedding_dim,\n",
    "            hidden_size=embedding_dim,\n",
    "            num_layers=num_layers,\n",
    "            batch_first=True,\n",
    "            bidirectional=bidirectional,\n",
    "        )\n",
    "        \n",
    "        self.attention_pooling = AttentionPooling(d_model=embedding_dim * (1 + bidirectional))\n",
    "\n",
    "        self.meta_features_encoder = nn.Sequential(\n",
    "            nn.BatchNorm1d(num_meta_features),\n",
    "            nn.Linear(num_meta_features, embedding_dim)\n",
    "        )\n",
    "        \n",
    "        self.out = nn.Linear(embedding_dim * (2 + bidirectional), output_dim)\n",
    "\n",
    "    def forward(self, input_ids, attention_mask, meta_features):\n",
    "        x = self.embedding(input_ids)\n",
    "        x, (h, c) = self.lstm(x)\n",
    "        \n",
    "        pooled_x = self.attention_pooling(x, attention_mask)\n",
    "        meta_x = self.meta_features_encoder(meta_features)\n",
    "        \n",
    "        out = self.out(torch.cat([pooled_x, meta_x], dim=-1))\n",
    "        \n",
    "        return out"
   ]
  },
  {
   "cell_type": "code",
   "execution_count": 18,
   "id": "580ae99b-d825-4e67-b8c4-e4c5c5f1efc9",
   "metadata": {},
   "outputs": [
    {
     "data": {
      "text/plain": [
       "StrengthLSTM(\n",
       "  (embedding): Embedding(117, 64)\n",
       "  (lstm): LSTM(64, 64, num_layers=2, batch_first=True, bidirectional=True)\n",
       "  (attention_pooling): AttentionPooling(\n",
       "    (attention): Sequential(\n",
       "      (0): Linear(in_features=128, out_features=128, bias=True)\n",
       "      (1): GELU(approximate='none')\n",
       "      (2): Linear(in_features=128, out_features=1, bias=True)\n",
       "      (3): ReLU()\n",
       "    )\n",
       "  )\n",
       "  (meta_features_encoder): Sequential(\n",
       "    (0): BatchNorm1d(4, eps=1e-05, momentum=0.1, affine=True, track_running_stats=True)\n",
       "    (1): Linear(in_features=4, out_features=64, bias=True)\n",
       "  )\n",
       "  (out): Linear(in_features=192, out_features=3, bias=True)\n",
       ")"
      ]
     },
     "execution_count": 18,
     "metadata": {},
     "output_type": "execute_result"
    }
   ],
   "source": [
    "model = StrengthLSTM(\n",
    "    embedding_dim=64, \n",
    "    num_layers=2, \n",
    "    num_meta_features=4,\n",
    "    output_dim=3, \n",
    "    bidirectional=True,\n",
    ")\n",
    "\n",
    "model"
   ]
  },
  {
   "cell_type": "code",
   "execution_count": 19,
   "id": "91d24bc1-ed52-4048-8ab1-b629e9906cf6",
   "metadata": {},
   "outputs": [
    {
     "data": {
      "text/plain": [
       "tensor([[1, 1, 1,  ..., 0, 0, 0],\n",
       "        [1, 1, 1,  ..., 0, 0, 0],\n",
       "        [1, 1, 1,  ..., 0, 0, 0],\n",
       "        ...,\n",
       "        [1, 1, 1,  ..., 0, 0, 0],\n",
       "        [1, 1, 1,  ..., 0, 0, 0],\n",
       "        [1, 1, 1,  ..., 0, 0, 0]])"
      ]
     },
     "execution_count": 19,
     "metadata": {},
     "output_type": "execute_result"
    }
   ],
   "source": [
    "example_ids, example_attm_mask, example_meta_features, example_labels = next(iter(example_dataloader))\n",
    "example_attm_mask"
   ]
  },
  {
   "cell_type": "code",
   "execution_count": 20,
   "id": "b7d5b300-7767-4f9b-8980-189635f73f5f",
   "metadata": {
    "scrolled": true
   },
   "outputs": [
    {
     "data": {
      "text/plain": [
       "(torch.Size([64, 3]), torch.Size([64]))"
      ]
     },
     "execution_count": 20,
     "metadata": {},
     "output_type": "execute_result"
    }
   ],
   "source": [
    "model(example_ids, example_attm_mask, example_meta_features).shape, example_labels.shape"
   ]
  },
  {
   "cell_type": "markdown",
   "id": "7e3322cc-e06e-4249-9435-2ef80e29c082",
   "metadata": {},
   "source": [
    "# Loops"
   ]
  },
  {
   "cell_type": "code",
   "execution_count": 21,
   "id": "7a8b89c2-0e61-4784-a200-0c504093352a",
   "metadata": {},
   "outputs": [],
   "source": [
    "def train_epoch(model, data_loader, loss_function, optimizer, scheduler, device, n_acum_steps = 1):\n",
    "    model.to(device)\n",
    "    model.train()\n",
    "    total_train_loss = 0\n",
    "\n",
    "    dl_size = len(data_loader)\n",
    "    \n",
    "    preds = []\n",
    "    targets = []\n",
    "\n",
    "    batch_i = 0\n",
    "    for batch in tqdm(data_loader):\n",
    "        input_ids, attention_masks, meta_features, target = batch\n",
    "        input_ids = input_ids.to(device)\n",
    "        attention_masks = attention_masks.to(device)\n",
    "        meta_features = meta_features.to(device)\n",
    "        target = target.to(device)\n",
    "        \n",
    "        optimizer.zero_grad()        \n",
    "        logits = model(input_ids, attention_masks, meta_features)\n",
    "                \n",
    "        preds.append(logits.argmax(dim=1).detach().cpu())\n",
    "        targets.append(target.cpu())\n",
    "                \n",
    "        loss = loss_function(logits, target) / n_acum_steps\n",
    "        total_train_loss += loss.item()\n",
    "        \n",
    "        loss.backward()\n",
    "        if batch_i % n_acum_steps == 0 or batch_i == len(data_loader.dataset): \n",
    "            torch.nn.utils.clip_grad_norm_(model.parameters(), 1.0)\n",
    "            optimizer.step()\n",
    "            scheduler.step()\n",
    "\n",
    "        batch_i += 1\n",
    "\n",
    "    preds = torch.cat(preds, dim=0).numpy()\n",
    "    targets = torch.cat(targets, dim=0).numpy()\n",
    "    acc = ((targets == preds).sum() / preds.shape[0]).item()\n",
    "    balanced_acc = balanced_accuracy_score(targets, preds)\n",
    "    f1 = f1_score(targets, preds, average=\"weighted\")\n",
    "\n",
    "    metrics = {\n",
    "        \"Train Loss\": total_train_loss / dl_size,\n",
    "        \"Train Accuracy\": acc,\n",
    "        \"Train Balanced Accuracy\": balanced_acc,\n",
    "        \"Train F1\": f1,\n",
    "    }\n",
    "    \n",
    "    return metrics\n",
    "    \n",
    "    \n",
    "def eval_epoch(model, data_loader, loss_function, device):\n",
    "    model.to(device)\n",
    "    model.eval()\n",
    "    total_train_loss = 0\n",
    "    \n",
    "    preds = []\n",
    "    targets = []\n",
    "\n",
    "    dl_size = len(data_loader)\n",
    "\n",
    "    \n",
    "    for batch in tqdm(data_loader):\n",
    "        input_ids, attention_masks, meta_features, target = batch\n",
    "        input_ids = input_ids.to(device)\n",
    "        attention_masks = attention_masks.to(device)\n",
    "        meta_features = meta_features.to(device)\n",
    "        target = target.to(device)\n",
    "        \n",
    "        with torch.no_grad():\n",
    "            logits = model(input_ids, attention_masks, meta_features)\n",
    "            preds.append(logits.argmax(dim=1).cpu())\n",
    "            targets.append(target.cpu())\n",
    "        \n",
    "        loss = loss_function(logits, target)\n",
    "        total_train_loss += loss.item()\n",
    "            \n",
    "    preds = torch.cat(preds, dim=0).numpy()\n",
    "    targets = torch.cat(targets, dim=0).numpy()\n",
    "    acc = ((targets == preds).sum() / preds.shape[0]).item()\n",
    "    balanced_acc = balanced_accuracy_score(targets, preds)\n",
    "    f1 = f1_score(targets, preds, average=\"weighted\")\n",
    "    # precision = precision_score(targets, preds)\n",
    "    # recall = recall_score(targets, preds)\n",
    "    \n",
    "    metrics = {\n",
    "        \"Eval Loss\": total_train_loss / dl_size,\n",
    "        \"Eval Accuracy\": acc,\n",
    "        \"Eval Balanced Accuracy\": balanced_acc,\n",
    "        \"Eval F1\": f1,\n",
    "    }\n",
    "    \n",
    "    return metrics\n",
    "\n",
    "\n",
    "def single_model(model, \n",
    "                 train_dataset, \n",
    "                 eval_dataset,  \n",
    "                 loss_function, \n",
    "                 optimizer,\n",
    "                 get_scheduler,\n",
    "                 device = torch.device(\"cuda\"),\n",
    "                 random_state: int = 69, \n",
    "                 shuffle: bool = True, \n",
    "                 epochs: int = 5, \n",
    "                 lr: float = 1e-6,\n",
    "                 num_workers: int = 1,\n",
    "                 batch_size: int = 32,\n",
    "                 n_acum_steps: int = 0):\n",
    "    random.seed(random_state),\n",
    "    np.random.seed(random_state)\n",
    "    torch.manual_seed(random_state)\n",
    "    torch.cuda.manual_seed_all(random_state)\n",
    "    \n",
    "    loss_function.to(device)\n",
    "\n",
    "    train_loader = torch.utils.data.DataLoader(\n",
    "                  train_dataset, \n",
    "                  batch_size=batch_size,\n",
    "                  shuffle=shuffle,\n",
    "                  num_workers=num_workers\n",
    "    )\n",
    "\n",
    "    eval_loader = torch.utils.data.DataLoader(\n",
    "                  eval_dataset,\n",
    "                  batch_size=batch_size,\n",
    "                  shuffle=False,\n",
    "                  num_workers=num_workers\n",
    "    )\n",
    "    \n",
    "    total_steps = len(train_loader) * epochs \n",
    "\n",
    "    scheduler = get_scheduler(optimizer, \n",
    "                                        num_warmup_steps = 0, # Default value in run_glue.py\n",
    "                                        num_training_steps = total_steps)\n",
    "\n",
    "    for epoch_i in range(0, epochs):\n",
    "        train_metrics = train_epoch(model, train_loader, loss_function, optimizer, scheduler, device, n_acum_steps)\n",
    "        eval_metrics = eval_epoch(model, eval_loader, loss_function, device)\n",
    "        \n",
    "        print(f\"EPOCH: {epoch_i}\")\n",
    "        print(train_metrics)\n",
    "        print(eval_metrics)\n"
   ]
  },
  {
   "cell_type": "code",
   "execution_count": 22,
   "id": "c67eaf7a-5afc-4444-9ad3-2c6c96b56d9c",
   "metadata": {},
   "outputs": [
    {
     "data": {
      "text/plain": [
       "(80000, 20000)"
      ]
     },
     "execution_count": 22,
     "metadata": {},
     "output_type": "execute_result"
    }
   ],
   "source": [
    "train_inds, eval_inds = train_test_split([i for i in range(len(dataset))], stratify=data.strength, test_size=0.2, random_state=42)\n",
    "train_dataset = Subset(dataset, indices=train_inds)\n",
    "eval_dataset = Subset(dataset, indices=eval_inds)\n",
    "\n",
    "len(train_inds), len(eval_inds)"
   ]
  },
  {
   "cell_type": "code",
   "execution_count": 25,
   "id": "cf185ba9-5374-429e-a5f9-8bf716c46f21",
   "metadata": {},
   "outputs": [
    {
     "name": "stdout",
     "output_type": "stream",
     "text": [
      "190924\n"
     ]
    }
   ],
   "source": [
    "model = StrengthLSTM(\n",
    "    embedding_dim=64, \n",
    "    num_layers=2,\n",
    "    num_meta_features=4,\n",
    "    output_dim=3, \n",
    "    bidirectional=True,\n",
    ")\n",
    "params_count = sum(p.numel() for p in model.parameters() if p.requires_grad)\n",
    "print(params_count)\n",
    "\n",
    "optimizer = torch.optim.AdamW([\n",
    "    {\"params\": model.embedding.parameters(), \"lr\" : 1e-4},\n",
    "    {\"params\": model.lstm.parameters(), \"lr\" : 1e-4},\n",
    "    {\"params\": model.out.parameters(), \"lr\" : 1e-4},\n",
    "])\n",
    "\n",
    "get_scheduler = get_cosine_schedule_with_warmup"
   ]
  },
  {
   "cell_type": "code",
   "execution_count": 26,
   "id": "c14f7175-7ea2-4c4c-a674-255c9abf9f9e",
   "metadata": {},
   "outputs": [
    {
     "data": {
      "application/vnd.jupyter.widget-view+json": {
       "model_id": "f767b0060a9c4751aae01dcc0fcc4898",
       "version_major": 2,
       "version_minor": 0
      },
      "text/plain": [
       "  0%|          | 0/625 [00:00<?, ?it/s]"
      ]
     },
     "metadata": {},
     "output_type": "display_data"
    },
    {
     "data": {
      "application/vnd.jupyter.widget-view+json": {
       "model_id": "d3505592fbe34fd5bc3fd2388c7cf9f6",
       "version_major": 2,
       "version_minor": 0
      },
      "text/plain": [
       "  0%|          | 0/157 [00:00<?, ?it/s]"
      ]
     },
     "metadata": {},
     "output_type": "display_data"
    },
    {
     "name": "stdout",
     "output_type": "stream",
     "text": [
      "EPOCH: 0\n",
      "{'Train Loss': 0.4857671598434448, 'Train Accuracy': 0.816725, 'Train Balanced Accuracy': 0.5502428745081602, 'Train F1': 0.7744406129156816}\n",
      "{'Eval Loss': 0.1544755105474952, 'Eval Accuracy': 0.96605, 'Eval Balanced Accuracy': 0.9521875830435039, 'Eval F1': 0.966200213400386}\n"
     ]
    },
    {
     "data": {
      "application/vnd.jupyter.widget-view+json": {
       "model_id": "c1a6cb4b10ed494f84567bd9448b8850",
       "version_major": 2,
       "version_minor": 0
      },
      "text/plain": [
       "  0%|          | 0/625 [00:00<?, ?it/s]"
      ]
     },
     "metadata": {},
     "output_type": "display_data"
    },
    {
     "data": {
      "application/vnd.jupyter.widget-view+json": {
       "model_id": "75aedc14006048eeb7fdc4d335ce9b0a",
       "version_major": 2,
       "version_minor": 0
      },
      "text/plain": [
       "  0%|          | 0/157 [00:00<?, ?it/s]"
      ]
     },
     "metadata": {},
     "output_type": "display_data"
    },
    {
     "name": "stdout",
     "output_type": "stream",
     "text": [
      "EPOCH: 1\n",
      "{'Train Loss': 0.09508685804009438, 'Train Accuracy': 0.9747625, 'Train Balanced Accuracy': 0.9638801980506901, 'Train F1': 0.9748249629899863}\n",
      "{'Eval Loss': 0.04873350624493353, 'Eval Accuracy': 0.9886, 'Eval Balanced Accuracy': 0.9822090589976332, 'Eval F1': 0.9886037062921962}\n"
     ]
    },
    {
     "data": {
      "application/vnd.jupyter.widget-view+json": {
       "model_id": "66ccbd77eb8042d3a77ace01e1a0199e",
       "version_major": 2,
       "version_minor": 0
      },
      "text/plain": [
       "  0%|          | 0/625 [00:00<?, ?it/s]"
      ]
     },
     "metadata": {},
     "output_type": "display_data"
    },
    {
     "data": {
      "application/vnd.jupyter.widget-view+json": {
       "model_id": "1a40bd80571f406fbcc3b6d8aeb8c134",
       "version_major": 2,
       "version_minor": 0
      },
      "text/plain": [
       "  0%|          | 0/157 [00:00<?, ?it/s]"
      ]
     },
     "metadata": {},
     "output_type": "display_data"
    },
    {
     "name": "stdout",
     "output_type": "stream",
     "text": [
      "EPOCH: 2\n",
      "{'Train Loss': 0.04706059096455574, 'Train Accuracy': 0.9873625, 'Train Balanced Accuracy': 0.9826478475794244, 'Train F1': 0.9873791065273639}\n",
      "{'Eval Loss': 0.09951784791555374, 'Eval Accuracy': 0.956, 'Eval Balanced Accuracy': 0.9527033934971123, 'Eval F1': 0.956922679694014}\n"
     ]
    },
    {
     "data": {
      "application/vnd.jupyter.widget-view+json": {
       "model_id": "54281c40e1a1463c8455940a0865253f",
       "version_major": 2,
       "version_minor": 0
      },
      "text/plain": [
       "  0%|          | 0/625 [00:00<?, ?it/s]"
      ]
     },
     "metadata": {},
     "output_type": "display_data"
    },
    {
     "data": {
      "application/vnd.jupyter.widget-view+json": {
       "model_id": "a39361fab9784bbd9ece27b13a4374d1",
       "version_major": 2,
       "version_minor": 0
      },
      "text/plain": [
       "  0%|          | 0/157 [00:00<?, ?it/s]"
      ]
     },
     "metadata": {},
     "output_type": "display_data"
    },
    {
     "name": "stdout",
     "output_type": "stream",
     "text": [
      "EPOCH: 3\n",
      "{'Train Loss': 0.03163894825726748, 'Train Accuracy': 0.9906375, 'Train Balanced Accuracy': 0.9880275136240937, 'Train F1': 0.9906510183815073}\n",
      "{'Eval Loss': 0.02136268185238075, 'Eval Accuracy': 0.9946, 'Eval Balanced Accuracy': 0.9967060034996683, 'Eval F1': 0.9946239262293253}\n"
     ]
    },
    {
     "data": {
      "application/vnd.jupyter.widget-view+json": {
       "model_id": "b7688beabf3b44edbedfd23a46529ef5",
       "version_major": 2,
       "version_minor": 0
      },
      "text/plain": [
       "  0%|          | 0/625 [00:00<?, ?it/s]"
      ]
     },
     "metadata": {},
     "output_type": "display_data"
    },
    {
     "data": {
      "application/vnd.jupyter.widget-view+json": {
       "model_id": "be0a9aa362a543268a2fcadc7bbb74b6",
       "version_major": 2,
       "version_minor": 0
      },
      "text/plain": [
       "  0%|          | 0/157 [00:00<?, ?it/s]"
      ]
     },
     "metadata": {},
     "output_type": "display_data"
    },
    {
     "name": "stdout",
     "output_type": "stream",
     "text": [
      "EPOCH: 4\n",
      "{'Train Loss': 0.023314260164275766, 'Train Accuracy': 0.993325, 'Train Balanced Accuracy': 0.9916553096252572, 'Train F1': 0.993332390297544}\n",
      "{'Eval Loss': 0.024063835989766913, 'Eval Accuracy': 0.99295, 'Eval Balanced Accuracy': 0.9896194856731048, 'Eval F1': 0.9929545037770396}\n"
     ]
    },
    {
     "data": {
      "application/vnd.jupyter.widget-view+json": {
       "model_id": "2686c4b5f8924ef78139e7003517d71a",
       "version_major": 2,
       "version_minor": 0
      },
      "text/plain": [
       "  0%|          | 0/625 [00:00<?, ?it/s]"
      ]
     },
     "metadata": {},
     "output_type": "display_data"
    },
    {
     "data": {
      "application/vnd.jupyter.widget-view+json": {
       "model_id": "ef451e11063a4eefa3aa42e3ab4be83f",
       "version_major": 2,
       "version_minor": 0
      },
      "text/plain": [
       "  0%|          | 0/157 [00:00<?, ?it/s]"
      ]
     },
     "metadata": {},
     "output_type": "display_data"
    },
    {
     "name": "stdout",
     "output_type": "stream",
     "text": [
      "EPOCH: 5\n",
      "{'Train Loss': 0.01985002791620791, 'Train Accuracy': 0.994175, 'Train Balanced Accuracy': 0.9925153741497753, 'Train F1': 0.9941808921064507}\n",
      "{'Eval Loss': 0.012882912513699121, 'Eval Accuracy': 0.9969, 'Eval Balanced Accuracy': 0.997749659842987, 'Eval F1': 0.9969078887157522}\n"
     ]
    },
    {
     "data": {
      "application/vnd.jupyter.widget-view+json": {
       "model_id": "091f3d21e91345569bce2421a26c5f89",
       "version_major": 2,
       "version_minor": 0
      },
      "text/plain": [
       "  0%|          | 0/625 [00:00<?, ?it/s]"
      ]
     },
     "metadata": {},
     "output_type": "display_data"
    },
    {
     "data": {
      "application/vnd.jupyter.widget-view+json": {
       "model_id": "5c25a12e083d4409bc7199bcb882477b",
       "version_major": 2,
       "version_minor": 0
      },
      "text/plain": [
       "  0%|          | 0/157 [00:00<?, ?it/s]"
      ]
     },
     "metadata": {},
     "output_type": "display_data"
    },
    {
     "name": "stdout",
     "output_type": "stream",
     "text": [
      "EPOCH: 6\n",
      "{'Train Loss': 0.014294024329446256, 'Train Accuracy': 0.99645, 'Train Balanced Accuracy': 0.9962698385041685, 'Train F1': 0.9964546618658704}\n",
      "{'Eval Loss': 0.013074541162657938, 'Eval Accuracy': 0.99675, 'Eval Balanced Accuracy': 0.9976937986276834, 'Eval F1': 0.9967593389706179}\n"
     ]
    },
    {
     "data": {
      "application/vnd.jupyter.widget-view+json": {
       "model_id": "100417993d264e88afa26fc01a0437c6",
       "version_major": 2,
       "version_minor": 0
      },
      "text/plain": [
       "  0%|          | 0/625 [00:00<?, ?it/s]"
      ]
     },
     "metadata": {},
     "output_type": "display_data"
    },
    {
     "data": {
      "application/vnd.jupyter.widget-view+json": {
       "model_id": "55b30b0cf5484911b91bf576f4e60a5a",
       "version_major": 2,
       "version_minor": 0
      },
      "text/plain": [
       "  0%|          | 0/157 [00:00<?, ?it/s]"
      ]
     },
     "metadata": {},
     "output_type": "display_data"
    },
    {
     "name": "stdout",
     "output_type": "stream",
     "text": [
      "EPOCH: 7\n",
      "{'Train Loss': 0.011375114630535244, 'Train Accuracy': 0.997275, 'Train Balanced Accuracy': 0.9973722292744864, 'Train F1': 0.9972788512457215}\n",
      "{'Eval Loss': 0.012105682069898411, 'Eval Accuracy': 0.99725, 'Eval Balanced Accuracy': 0.998019851105349, 'Eval F1': 0.997256314669803}\n"
     ]
    },
    {
     "data": {
      "application/vnd.jupyter.widget-view+json": {
       "model_id": "0a323808339a4ad28b519e91d0568a64",
       "version_major": 2,
       "version_minor": 0
      },
      "text/plain": [
       "  0%|          | 0/625 [00:00<?, ?it/s]"
      ]
     },
     "metadata": {},
     "output_type": "display_data"
    },
    {
     "data": {
      "application/vnd.jupyter.widget-view+json": {
       "model_id": "f932a96e88bc427fb3f7e38bafcb9861",
       "version_major": 2,
       "version_minor": 0
      },
      "text/plain": [
       "  0%|          | 0/157 [00:00<?, ?it/s]"
      ]
     },
     "metadata": {},
     "output_type": "display_data"
    },
    {
     "name": "stdout",
     "output_type": "stream",
     "text": [
      "EPOCH: 8\n",
      "{'Train Loss': 0.010100227188691496, 'Train Accuracy': 0.9976875, 'Train Balanced Accuracy': 0.9979533056273907, 'Train F1': 0.9976905641689933}\n",
      "{'Eval Loss': 0.010835810523675932, 'Eval Accuracy': 0.9976, 'Eval Balanced Accuracy': 0.9979736027639525, 'Eval F1': 0.9976043262487737}\n"
     ]
    },
    {
     "data": {
      "application/vnd.jupyter.widget-view+json": {
       "model_id": "9c7cdc63348743da8830740db982aab8",
       "version_major": 2,
       "version_minor": 0
      },
      "text/plain": [
       "  0%|          | 0/625 [00:00<?, ?it/s]"
      ]
     },
     "metadata": {},
     "output_type": "display_data"
    },
    {
     "data": {
      "application/vnd.jupyter.widget-view+json": {
       "model_id": "5b6e1444a6264e659097b70f19fb0bd5",
       "version_major": 2,
       "version_minor": 0
      },
      "text/plain": [
       "  0%|          | 0/157 [00:00<?, ?it/s]"
      ]
     },
     "metadata": {},
     "output_type": "display_data"
    },
    {
     "name": "stdout",
     "output_type": "stream",
     "text": [
      "EPOCH: 9\n",
      "{'Train Loss': 0.009137324153259397, 'Train Accuracy': 0.997975, 'Train Balanced Accuracy': 0.9982094308551818, 'Train F1': 0.9979777958113686}\n",
      "{'Eval Loss': 0.010851643997345381, 'Eval Accuracy': 0.9976, 'Eval Balanced Accuracy': 0.9977588242993657, 'Eval F1': 0.9976040392871585}\n"
     ]
    }
   ],
   "source": [
    "single_model(\n",
    "    model=model, \n",
    "    train_dataset=train_dataset, \n",
    "    eval_dataset=eval_dataset,   \n",
    "    loss_function=nn.CrossEntropyLoss(), \n",
    "    optimizer=optimizer,\n",
    "    get_scheduler=get_scheduler,\n",
    "    device=torch.device(\"cpu\"),\n",
    "    random_state=SEED, \n",
    "    shuffle=True, \n",
    "    epochs=10, \n",
    "    num_workers=0,\n",
    "    batch_size=128,\n",
    "    n_acum_steps=1   \n",
    ")"
   ]
  },
  {
   "cell_type": "code",
   "execution_count": null,
   "id": "1965e190-a55a-4965-95fc-f8b981107f3d",
   "metadata": {},
   "outputs": [],
   "source": []
  }
 ],
 "metadata": {
  "kernelspec": {
   "display_name": "Python 3 (ipykernel)",
   "language": "python",
   "name": "python3"
  },
  "language_info": {
   "codemirror_mode": {
    "name": "ipython",
    "version": 3
   },
   "file_extension": ".py",
   "mimetype": "text/x-python",
   "name": "python",
   "nbconvert_exporter": "python",
   "pygments_lexer": "ipython3",
   "version": "3.9.11"
  }
 },
 "nbformat": 4,
 "nbformat_minor": 5
}
